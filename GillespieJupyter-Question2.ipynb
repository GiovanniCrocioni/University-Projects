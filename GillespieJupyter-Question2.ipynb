{
 "cells": [
  {
   "cell_type": "markdown",
   "metadata": {},
   "source": [
    "# Gillespie Algorithm for a SIR Model with Wise and Risky Indiviuals\n",
    "### by Luca Sbano (Theory & Implementation) and Steffen Bauer (Implementation & Jupyter)\n",
    "***"
   ]
  },
  {
   "cell_type": "markdown",
   "metadata": {},
   "source": [
    "__Definitions:__\n",
    "<br>\n",
    "\n",
    "|Variable | Meaning                                             |\n",
    "|---------|-----------------------------------------------------|\n",
    "|$W$:     | susceptible and wise                                |\n",
    "|$R$:     | susceptible and risky                               |\n",
    "|$I$:     | infectious                                          |\n",
    "|$D$:     | dead                                                |\n",
    "|$S$:     | individuals cured and who can no longer be infected |"
   ]
  },
  {
   "cell_type": "markdown",
   "metadata": {},
   "source": [
    "__Reactions:__\n",
    "<br>\n",
    "$$\n",
    "\\begin{align}\n",
    "    W &\\rightarrow^a R\\\\\n",
    "    R &\\rightarrow^{\\alpha} W\\\\\n",
    "    R + I &\\rightarrow^c 2I\\\\\n",
    "    W + I &\\rightarrow^b 2I\\\\\n",
    "    I &\\rightarrow^{\\beta} W\\\\\n",
    "    I &\\rightarrow^d D\\\\\n",
    "    I &\\rightarrow^{\\rho} S\n",
    "\\end{align}\n",
    "$$"
   ]
  },
  {
   "attachments": {
    "GILLESPIEDANIEL_20170422%28legacy_com%29.jpg": {
     "image/jpeg": "[encoded data removed]"
    }
   },
   "cell_type": "markdown",
   "metadata": {},
   "source": [
    "## Algorithm\n",
    "\n",
    "\n",
    "![GILLESPIEDANIEL_20170422%28legacy_com%29.jpg](attachment:GILLESPIEDANIEL_20170422%28legacy_com%29.jpg)\n",
    "\n",
    ">1. Generate two random numbers $r_1$, $r_2$ uniformly distributed in\n",
    "$[0, 1]$.\n",
    "2. Compute $\\mathcal{R}_0 := \\sum_{j=1}^r \\mathcal{R}_j$.\n",
    "3. Compute $\\tau := \\frac{1}{\\mathcal{R}_0} \\ln[\\frac{1}{r_1}]$.\n",
    "4. Set time of next rule execution to $t + \\tau$.\n",
    "5. Compute wich rule is executed at time $t + \\tau$. Find $j$ such that\n",
    "$$\n",
    "\\frac{1}{\\mathcal{R}_0} \\sum_{i=1}^{j-1} \\mathcal{R}_i < r_2 \\leq  \\frac{1}{\\mathcal{R}_0} \\sum_{i=1}^{j} \\mathcal{R}_i\n",
    "$$\n",
    "6. Execute rule $R_j$ and update to new system configuration.\n",
    "7. Go to step 1 with updated time $t::= t + \\tau$ (where $::=$ means replacement) if $t < T$, otherwise stop.\n",
    "\n",
    "(If you want to see Daniel Gillespie presenting his algorithm in 2017, go to [youtube](https://youtu.be/atOc2v8Wtcw).)"
   ]
  },
  {
   "cell_type": "markdown",
   "metadata": {},
   "source": [
    "## Implementation"
   ]
  },
  {
   "cell_type": "markdown",
   "metadata": {},
   "source": [
    "First load some libraries:"
   ]
  },
  {
   "cell_type": "code",
   "execution_count": 1,
   "metadata": {},
   "outputs": [],
   "source": [
    "import numpy as np\n",
    "import matplotlib.pyplot as plt\n",
    "\n",
    "from ipywidgets import interact\n",
    "from IPython.display import display"
   ]
  },
  {
   "cell_type": "markdown",
   "metadata": {},
   "source": [
    "Define the algorithm [above](#Algorithm) as a function (later used for interactivity):"
   ]
  },
  {
   "cell_type": "code",
   "execution_count": 2,
   "metadata": {},
   "outputs": [],
   "source": [
    "def gillespie(rWiseToRisky     = 0.1, \n",
    "              rRiskyToWise     = 0.03, \n",
    "              rWiseToInfected  = 0.001, \n",
    "              rRiskyToInfected = 0.01,\n",
    "              rCure            = 0.2,\n",
    "              rFatalities      = 0.08,\n",
    "              rRecover         = 0.1,\n",
    "              n                = 800\n",
    "             ):\n",
    "    '''\n",
    "    Gillespie algorithm to solve SIR model for wise and risky people\n",
    "    Implementation of Gillespie algorithm and SIR model: Luca Sbano\n",
    "    Slight modifications for interactivity with slider : Steffen Bauer\n",
    "    Extension : Giovanni Luis Crocioni\n",
    "    '''\n",
    "    \n",
    "    # Input parameters \n",
    "    N     = n              #        int;   total population  \n",
    "    T     = 100.0            #        float; maximum elapsed time \n",
    "    t     = 0.0              #        float; start time\n",
    "    a     = rWiseToRisky     # (0.1)  float; rate of wise to risky\n",
    "    alpha = rRiskyToWise     # (0.03) float; rate of risky to wise\n",
    "    b     = rWiseToInfected  # (0.001)float; rate of wise to infected\n",
    "    c     = rRiskyToInfected # (0.01) float; rate of risky to infected\n",
    "    beta  = rCure            # (0.2)  float; rate of cure\n",
    "    d     = rFatalities      # (0.08) float; rate of fatalities\n",
    "    rho   = rRecover         # (0.1)  float; rate of recovering and getting immunity\n",
    "    \n",
    "    n_I   = 1                #        int;   initial Infected population\n",
    "    n_D   = 0                #        int;   initial conditions on Dead people \n",
    "    n_S   = 0                #        int;   initial conditions on Saved people \n",
    "    n_R   = 50               #        int;   initial conditions on Risky people\n",
    "    n_W   = N - n_I - n_R    #        int;   initial conditions on Wise people\n",
    "\n",
    "    # Initialize results list\n",
    "    MAXITER       = 10000\n",
    "    SIR_data      = np.zeros((MAXITER  + 1, 6))\n",
    "    SIR_data[0,:] = [t, n_W, n_I, n_R, n_S, n_D]\n",
    "\n",
    "    it = 0\n",
    "    \n",
    "    #To measure the values of the data points\n",
    "    data_points = {'nW': [], 'nI': [], 'nR': [], 'nS': [], 'nD': []}\n",
    "    point_counter = 0\n",
    "    \n",
    "    # Main loop\n",
    "    while t < T and it < MAXITER:\n",
    "        if n_I == 0:\n",
    "            break\n",
    "        it += 1\n",
    "\n",
    "        # Rates/Weights calculation\n",
    "        w1 = a * n_W\n",
    "        w2 = alpha * n_R\n",
    "        w3 = c * n_I * n_R\n",
    "        w4 = b * n_I * n_W\n",
    "        w5 = beta * n_I\n",
    "        w6 = d * n_I\n",
    "        w7 = rho * n_I\n",
    "        W  = w1 + w2 + w3 + w4 + w5 + w6 + w7\n",
    "        \n",
    "        # First uniformily distributed ranmdom number\n",
    "        r_1 = np.random.uniform(0.0, 1.0)\n",
    "        # Time increment\n",
    "        dt  = -np.log(r_1) / W\n",
    "        t   = t + dt\n",
    "        \n",
    "        #Store the value of data points\n",
    "        if t >= 10 and point_counter < 1:\n",
    "            data_points['nW'].append(n_W)\n",
    "            data_points['nI'].append(n_I)\n",
    "            data_points['nR'].append(n_R)\n",
    "            data_points['nS'].append(n_S)\n",
    "            data_points['nD'].append(n_D)\n",
    "            point_counter += 1\n",
    "\n",
    "        #Second uniformily distributed ranmdom number\n",
    "        r_2 = np.random.uniform(0.0, 1.0)\n",
    "    \n",
    "        #Choice of the reaction according to the probabilities\n",
    "        if r_2 < w1 / W:\n",
    "            n_W = n_W - 1\n",
    "            n_R = n_R + 1\n",
    "        if r_2>=w1/W and r_2 < (w1+w2) / W:\n",
    "            n_R = n_R - 1\n",
    "            n_W = n_W + 1\n",
    "        if r_2>=(w1+w2)/W and r_2 < (w1+w2+w3)/W:\n",
    "            n_R = n_R - 1\n",
    "            n_I = n_I + 1\n",
    "        if r_2>=(w1+w2+w3)/W and r_2 < (w1+w2+w3+w4)/W:\n",
    "            n_W = n_W - 1\n",
    "            n_I = n_I + 1\n",
    "        if r_2>=(w1+w2+w3+w4)/W and r_2 < (w1+w2+w3+w4+w5)/W:\n",
    "            n_I = n_I - 1\n",
    "            n_W = n_W + 1\n",
    "        if r_2>=(w1+w2+w3+w4+w5)/W and r_2< (w1+w2+w3+w4+w5+w6)/W:\n",
    "            n_I = n_I - 1\n",
    "            n_D = n_D + 1\n",
    "        if r_2 >(w1+w2+w3+w4+w5+w6)/W:\n",
    "            n_I = n_I - 1\n",
    "            n_S = n_S + 1\n",
    "        \n",
    "        #print(\"{:f} \\t {:d} \\t {:d} \\t {:d} \\t {:d} \\t {:d}\".format(t, n_W, n_I, n_R, n_S, n_D))\n",
    "        SIR_data[it, :] = [t, n_W, n_I, n_R, n_S, n_D]\n",
    "    \n",
    "    #Plotting\n",
    "    SIR  = SIR_data[:it,:]\n",
    "    time = SIR[:,0]\n",
    "    nW   = SIR[:,1]\n",
    "    nI   = SIR[:,2]\n",
    "    nR   = SIR[:,3]\n",
    "    nS   = SIR[:,4]\n",
    "    nD   = SIR[:,5]\n",
    "\n",
    "    fig, ax = plt.subplots(figsize=(15,5))\n",
    "    line1,=ax.plot(time,nW, label='$n_W$')\n",
    "    line2,=ax.plot(time,nI, label='$n_I$')\n",
    "    line3,=ax.plot(time,nR, label='$n_R$')\n",
    "    line4,=ax.plot(time,nS, label='$n_S$')\n",
    "    line5,=ax.plot(time,nD, label='$n_D$')\n",
    "    \n",
    "    legend = ax.legend(bbox_to_anchor=(1.04,0.5), loc='center left', shadow=True, fontsize='x-large')\n",
    "    ax.set_xlim(0., T)\n",
    "    ax.set_ylim(0., N)\n",
    "    \n",
    "    plt.title('Simulation of a SIR model')\n",
    "    plt.xlabel('time')\n",
    "    plt.ylabel('Individuals')\n",
    "\n",
    "    plt.show()\n",
    "    #return data_points"
   ]
  },
  {
   "cell_type": "markdown",
   "metadata": {},
   "source": [
    "You could call the function simply by \n",
    "`gillespie()` or `gillespie(rWiseToRisky = 0.8)` if you want to chance the parameters / reaction rates.\n",
    "\n",
    "But we can add interactivity by simply using `interact(function, paramters = (min, max, stepsize))`. And we get some lovely sliders.\n",
    "\n",
    "_(Please, be patient and wait for updating of the graph.)_"
   ]
  },
  {
   "cell_type": "code",
   "execution_count": 3,
   "metadata": {},
   "outputs": [
    {
     "data": {
      "application/vnd.jupyter.widget-view+json": {
       "model_id": "4f06ecd9a10e4afcb687489df11e530d",
       "version_major": 2,
       "version_minor": 0
      },
      "text/plain": [
       "interactive(children=(FloatSlider(value=0.1, description='rWiseToRisky', max=1.0, step=0.01), FloatSlider(valu…"
      ]
     },
     "metadata": {},
     "output_type": "display_data"
    }
   ],
   "source": [
    "interact(gillespie, rWiseToRisky     = (0.,1.,0.01), \n",
    "                    rRiskyToWise     = (0.,1.,0.01), \n",
    "                    rWiseToInfected  = (0.,1.,0.001),\n",
    "                    rRiskyToInfected = (0.,1.,0.01),\n",
    "                    rCure            = (0.,1.,0.01),\n",
    "                    rFatalities      = (0.,1.,0.01),\n",
    "                    rRecover         = (0.,1.,0.01),\n",
    "                    n                = (200,800,1));"
   ]
  },
  {
   "cell_type": "markdown",
   "metadata": {},
   "source": [
    "Now it's time to play with all these parameters. Choose them wisely!;-P \n",
    "\n",
    "From here on, the code is Giovanni Luis Crocioni's.\n",
    "\n",
    "I chose the following parameters for the model, having tested a few different combinations. Below is a realisation of it."
   ]
  },
  {
   "cell_type": "code",
   "execution_count": 4,
   "metadata": {
    "scrolled": false
   },
   "outputs": [
    {
     "data": {
      "image/png": "[encoded data removed]",
      "text/plain": [
       "<Figure size 1500x500 with 1 Axes>"
      ]
     },
     "metadata": {},
     "output_type": "display_data"
    }
   ],
   "source": [
    "gillespie(rWiseToRisky     = 0.10, \n",
    "          rRiskyToWise     = 0.03, \n",
    "          rWiseToInfected  = 0.00, \n",
    "          rRiskyToInfected = 0.10,\n",
    "          rCure            = 0.20,\n",
    "          rFatalities      = 0.08,\n",
    "          rRecover         = 0.08,\n",
    "          n                = 800)"
   ]
  },
  {
   "cell_type": "markdown",
   "metadata": {},
   "source": [
    "I will use the test to check that the algorithmn runs to beyond 50 time steps with high probabibility. I also check that i exceeds the vlaue of 1, because sometimes the one infected person either dies or is saved, so the parameters chosen need to minimise this risk while also maximising the chance of exceeding 50. Averaging over many iterations, 95% of the time we get a desired result."
   ]
  },
  {
   "cell_type": "code",
   "execution_count": 5,
   "metadata": {},
   "outputs": [],
   "source": [
    "#Same as the original gillespie algorithm, however doesn't return a plot but allows us to check it runs past 50 \n",
    "#and past 1 often\n",
    "def gillespie_test(rWiseToRisky     = 0.10, \n",
    "                   rRiskyToWise     = 0.03, \n",
    "                   rWiseToInfected  = 0.00, \n",
    "                   rRiskyToInfected = 0.10,\n",
    "                   rCure            = 0.20,\n",
    "                   rFatalities      = 0.08,\n",
    "                   rRecover         = 0.08,\n",
    "                   n                = 800):\n",
    "\n",
    "    # Input parameters \n",
    "    N     = n              #        int;   total population  \n",
    "    T     = 100.0            #        float; maximum elapsed time \n",
    "    t     = 0.0              #        float; start time\n",
    "    a     = rWiseToRisky     # (0.1)  float; rate of wise to risky\n",
    "    alpha = rRiskyToWise     # (0.03) float; rate of risky to wise\n",
    "    b     = rWiseToInfected  # (0.001)float; rate of wise to infected\n",
    "    c     = rRiskyToInfected # (0.01) float; rate of risky to infected\n",
    "    beta  = rCure            # (0.2)  float; rate of cure\n",
    "    d     = rFatalities      # (0.08) float; rate of fatalities\n",
    "    rho   = rRecover         # (0.1)  float; rate of recovering and getting immunity\n",
    "    \n",
    "    n_I   = 1                #        int;   initial Infected population\n",
    "    n_D   = 0                #        int;   initial conditions on Dead people \n",
    "    n_S   = 0                #        int;   initial conditions on Saved people \n",
    "    n_R   = 50               #        int;   initial conditions on Risky people\n",
    "    n_W   = N - n_I - n_R    #        int;   initial conditions on Wise people\n",
    "\n",
    "    # Initialize results list\n",
    "    MAXITER       = 10000\n",
    "    it = 0\n",
    "    check50 = 0\n",
    "    check1 = 0\n",
    "    \n",
    "    # Main loop\n",
    "    while t < T and it < MAXITER:\n",
    "        if n_I == 0:\n",
    "            break\n",
    "        it += 1\n",
    "\n",
    "        # Rates/Weights calculation\n",
    "        w1 = a * n_W\n",
    "        w2 = alpha * n_R\n",
    "        w3 = c * n_I * n_R\n",
    "        w4 = b * n_I * n_W\n",
    "        w5 = beta * n_I\n",
    "        w6 = d * n_I\n",
    "        w7 = rho * n_I\n",
    "        W  = w1 + w2 + w3 + w4 + w5 + w6 + w7\n",
    "        \n",
    "        # First uniformily distributed ranmdom number\n",
    "        r_1 = np.random.uniform(0.0, 1.0)\n",
    "        # Time increment\n",
    "        dt  = -np.log(r_1) / W\n",
    "        t   = t + dt\n",
    "        \n",
    "\n",
    "        #Second uniformily distributed ranmdom number\n",
    "        r_2 = np.random.uniform(0.0, 1.0)\n",
    "    \n",
    "        #Choice of the reaction according to the probabilities\n",
    "        if r_2 < w1 / W:\n",
    "            n_W = n_W - 1\n",
    "            n_R = n_R + 1\n",
    "        if r_2>=w1/W and r_2 < (w1+w2) / W:\n",
    "            n_R = n_R - 1\n",
    "            n_W = n_W + 1\n",
    "        if r_2>=(w1+w2)/W and r_2 < (w1+w2+w3)/W:\n",
    "            n_R = n_R - 1\n",
    "            n_I = n_I + 1\n",
    "        if r_2>=(w1+w2+w3)/W and r_2 < (w1+w2+w3+w4)/W:\n",
    "            n_W = n_W - 1\n",
    "            n_I = n_I + 1\n",
    "        if r_2>=(w1+w2+w3+w4)/W and r_2 < (w1+w2+w3+w4+w5)/W:\n",
    "            n_I = n_I - 1\n",
    "            n_W = n_W + 1\n",
    "        if r_2>=(w1+w2+w3+w4+w5)/W and r_2< (w1+w2+w3+w4+w5+w6)/W:\n",
    "            n_I = n_I - 1\n",
    "            n_D = n_D + 1\n",
    "        if r_2 >(w1+w2+w3+w4+w5+w6)/W:\n",
    "            n_I = n_I - 1\n",
    "            n_S = n_S + 1\n",
    "        \n",
    "    \n",
    "    if t > 50:\n",
    "        check50 += 1\n",
    "    else:\n",
    "        pass\n",
    "    \n",
    "    if t < 1:\n",
    "        check1 += 1\n",
    "    else:\n",
    "        pass\n",
    "    \n",
    "    return check50, check1"
   ]
  },
  {
   "cell_type": "code",
   "execution_count": 6,
   "metadata": {},
   "outputs": [
    {
     "name": "stdout",
     "output_type": "stream",
     "text": [
      "The probability of the algorithm exceeding t = 50 is: 91.00%\n",
      "The probability of the algorithm not exceeding t = 1 is: 9.00%\n"
     ]
    }
   ],
   "source": [
    "#Initialise certain values\n",
    "iterations = 100\n",
    "count50 = 0\n",
    "count1 = 0\n",
    "count = 0\n",
    "\n",
    "#Looping over many realisations of the algorithm\n",
    "for _ in range(iterations):\n",
    "    check50, check1 = gillespie_test()  # Call gillespie_test() once to get both values\n",
    "    count50 += check50                  # If it runs past time t=50\n",
    "    count1  += check1                   # If it doesn't run past t=1\n",
    "    count   += 1\n",
    "\n",
    "#Calculating the probabilities of both events\n",
    "prob_pass_50 = count50 / count if count != 0 else 0\n",
    "prob_not_pass_1 = count1 / count if count != 0 else 0\n",
    "\n",
    "print(f'The probability of the algorithm exceeding t = 50 is: {prob_pass_50 * 100:.2f}%')\n",
    "print(f'The probability of the algorithm not exceeding t = 1 is: {prob_not_pass_1 * 100:.2f}%')"
   ]
  },
  {
   "cell_type": "code",
   "execution_count": 15,
   "metadata": {},
   "outputs": [
    {
     "data": {
      "text/plain": [
       "(425, 146, 4, 109, 116)"
      ]
     },
     "execution_count": 15,
     "metadata": {},
     "output_type": "execute_result"
    }
   ],
   "source": [
    "#Gillespie algorithm function that gives us the values of each category at a given time\n",
    "def gillespie1(rWiseToRisky     = 0.10,\n",
    "               rRiskyToWise     = 0.03, \n",
    "               rWiseToInfected  = 0.00, \n",
    "               rRiskyToInfected = 0.10,\n",
    "               rCure            = 0.20,\n",
    "               rFatalities      = 0.08,\n",
    "               rRecover         = 0.08,\n",
    "               Time             = 10,\n",
    "               n                = 800):\n",
    "               \n",
    "    '''\n",
    "    Gillespie algorithm to solve SIR model for wise and risky people\n",
    "    Implementation of Gillespie algorithm and SIR model: Luca Sbano\n",
    "    Slight modifications for interactivity with slider : Steffen Bauer\n",
    "    Extension : Giovanni Luis Crocioni\n",
    "    '''\n",
    "    \n",
    "    # Input parameters \n",
    "    N     = n              #        int;   total population  \n",
    "    T     = 100.0            #        float; maximum elapsed time \n",
    "    t     = 0.0              #        float; start time\n",
    "    a     = rWiseToRisky     # (0.1)  float; rate of wise to risky\n",
    "    alpha = rRiskyToWise     # (0.03) float; rate of risky to wise\n",
    "    b     = rWiseToInfected  # (0.001)float; rate of wise to infected\n",
    "    c     = rRiskyToInfected # (0.01) float; rate of risky to infected\n",
    "    beta  = rCure            # (0.2)  float; rate of cure\n",
    "    d     = rFatalities      # (0.08) float; rate of fatalities\n",
    "    rho   = rRecover         # (0.1)  float; rate of recovering and getting immunity\n",
    "    \n",
    "    n_I   = 1                #        int;   initial Infected population\n",
    "    n_D   = 0                #        int;   initial conditions on Dead people \n",
    "    n_S   = 0                #        int;   initial conditions on Saved people \n",
    "    n_R   = 50               #        int;   initial conditions on Risky people\n",
    "    n_W   = N - n_I - n_R    #        int;   initial conditions on Wise people\n",
    "\n",
    "    # Initialize results list\n",
    "    MAXITER       = 10000\n",
    "    it = 0\n",
    "    z = 0\n",
    "    \n",
    "    #To measure the values of the data points\n",
    "    data_nW = 0\n",
    "    data_nI = 0\n",
    "    data_nR = 0\n",
    "    data_nS = 0\n",
    "    data_nD = 0\n",
    "    \n",
    "    # Main loop\n",
    "    while t < T and it < MAXITER:\n",
    "        if n_I == 0:\n",
    "            break\n",
    "        it += 1\n",
    "\n",
    "        # Rates/Weights calculation\n",
    "        w1 = a * n_W\n",
    "        w2 = alpha * n_R\n",
    "        w3 = c * n_I * n_R\n",
    "        w4 = b * n_I * n_W\n",
    "        w5 = beta * n_I\n",
    "        w6 = d * n_I\n",
    "        w7 = rho * n_I\n",
    "        W  = w1 + w2 + w3 + w4 + w5 + w6 + w7\n",
    "        \n",
    "        # First uniformily distributed ranmdom number\n",
    "        r_1 = np.random.uniform(0.0, 1.0)\n",
    "        # Time increment\n",
    "        dt  = -np.log(r_1) / W\n",
    "        t   = t + dt\n",
    "        \n",
    "        #Store the value of data points\n",
    "        if t >= Time and z < 1:\n",
    "            data_nW = n_W\n",
    "            data_nI = n_I\n",
    "            data_nR = n_R\n",
    "            data_nS = n_S\n",
    "            data_nD = n_D\n",
    "            z += 1\n",
    "\n",
    "        #Second uniformily distributed ranmdom number\n",
    "        r_2 = np.random.uniform(0.0, 1.0)\n",
    "    \n",
    "        #Choice of the reaction according to the probabilities\n",
    "        if r_2 < w1 / W:\n",
    "            n_W = n_W - 1\n",
    "            n_R = n_R + 1\n",
    "        if r_2>=w1/W and r_2 < (w1+w2) / W:\n",
    "            n_R = n_R - 1\n",
    "            n_W = n_W + 1\n",
    "        if r_2>=(w1+w2)/W and r_2 < (w1+w2+w3)/W:\n",
    "            n_R = n_R - 1\n",
    "            n_I = n_I + 1\n",
    "        if r_2>=(w1+w2+w3)/W and r_2 < (w1+w2+w3+w4)/W:\n",
    "            n_W = n_W - 1\n",
    "            n_I = n_I + 1\n",
    "        if r_2>=(w1+w2+w3+w4)/W and r_2 < (w1+w2+w3+w4+w5)/W:\n",
    "            n_I = n_I - 1\n",
    "            n_W = n_W + 1\n",
    "        if r_2>=(w1+w2+w3+w4+w5)/W and r_2< (w1+w2+w3+w4+w5+w6)/W:\n",
    "            n_I = n_I - 1\n",
    "            n_D = n_D + 1\n",
    "        if r_2 >(w1+w2+w3+w4+w5+w6)/W:\n",
    "            n_I = n_I - 1\n",
    "            n_S = n_S + 1\n",
    "    #Only include the realisations that run beyond time t=50\n",
    "    if t > 50:\n",
    "        return data_nW, data_nI, data_nR, data_nS, data_nD \n",
    "    else:\n",
    "        return (np.nan, np.nan, np.nan, np.nan, np.nan)"
   ]
  },
  {
   "cell_type": "code",
   "execution_count": 8,
   "metadata": {},
   "outputs": [],
   "source": [
    "#Function which gives us a coefficient of variation for a specific category and point in time\n",
    "def coefficient_of_variation(category, time):\n",
    "    # Perform 'n' iterations of the Gillespie algorithm and collect data\n",
    "    n = 100\n",
    "    results_nW = []\n",
    "    results_nI = []\n",
    "    results_nR = []\n",
    "    results_nS = []\n",
    "    results_nD = []\n",
    "    for i in range(n):\n",
    "        data_nW, data_nI, data_nR, data_nS, data_nD = gillespie1(Time=time)  \n",
    "        results_nW.append(data_nW)\n",
    "        results_nI.append(data_nI)\n",
    "        results_nR.append(data_nR)\n",
    "        results_nS.append(data_nS)\n",
    "        results_nD.append(data_nD)\n",
    "    \n",
    "    # Clean the data by removing nans\n",
    "    nW = [x for x in results_nW if not np.isnan(x)]\n",
    "    nI = [x for x in results_nI if not np.isnan(x)] \n",
    "    nR = [x for x in results_nR if not np.isnan(x)]    \n",
    "    nS = [x for x in results_nS if not np.isnan(x)]\n",
    "    nD = [x for x in results_nD if not np.isnan(x)]\n",
    "    \n",
    "    # Calling the categories\n",
    "    if category == 'nR':\n",
    "        category_data = nR\n",
    "    elif category == 'nI':\n",
    "        category_data = nI\n",
    "    elif category == 'nS':\n",
    "        category_data = nS\n",
    "    elif category == 'nD':\n",
    "        category_data = nD\n",
    "    elif category == 'nW':\n",
    "        category_data = nW\n",
    "    else:\n",
    "        raise ValueError(\"Invalid category provided\")\n",
    "    \n",
    "    # Calculate mean, variance, standard deviation, and coefficient of variation\n",
    "    mean = np.mean(category_data)\n",
    "    standarddev = np.std(category_data)\n",
    "    coefficientvar = (standarddev / mean)\n",
    "    \n",
    "    return coefficientvar"
   ]
  },
  {
   "cell_type": "code",
   "execution_count": 9,
   "metadata": {},
   "outputs": [
    {
     "name": "stdout",
     "output_type": "stream",
     "text": [
      "0.5641011965605123\n",
      "0.5153721622366362\n",
      "0.564009052414341\n",
      "0.48191713642908873\n",
      "0.5675824963904341\n"
     ]
    }
   ],
   "source": [
    "#Check for different categories 'nW', 'nI', 'nR', 'nS', 'nD'\n",
    "for i in (10,20,30,40,50):\n",
    "    print(coefficient_of_variation('nR', i))\n",
    "#Should be clear that the coefficient of variation remains broadly constant"
   ]
  },
  {
   "cell_type": "code",
   "execution_count": null,
   "metadata": {},
   "outputs": [
    {
     "name": "stdout",
     "output_type": "stream",
     "text": [
      "Coefficient of Variation for nW: 0.031059034163091418\n",
      "Coefficient of Variation for nI: 0.07897166524163679\n"
     ]
    }
   ],
   "source": [
    "# Check for coefficient of variation in all categories a\n",
    "categories = ['nW', 'nI', 'nR', 'nS', 'nD']\n",
    "for category in categories:\n",
    "    print(f'Coefficient of Variation for {category}: {coefficient_of_variation(category, 10)}')\n"
   ]
  },
  {
   "cell_type": "markdown",
   "metadata": {},
   "source": [
    "The measure of randomness I've chosen to implement is the coefficient of variance. I've fixed a set of parameters for the Gillespie algorithm which made the algorithm likely to reach time t=50 and I then ran n=100 iterations of this algorithm. I picked some time steps (10,20,30,40,50) as above and for each of those points in time, I collect the values of the different categories - nW, nI, nR, nS, nD - at that point. With those values I calculate the mean and standard deviation of those values and get the coefficient of variation - a normalised standard deviation. Using the above, we notice that this stays broadly constant over time, so we only need to check for one time point. This coefficient of variance can be interpreted as a measure of randomness for a specific category for the Gillespie algorithm under certain parameters. To see how these change for different parameters, we just need to change them for gillespie1 function and run the cells. "
   ]
  },
  {
   "cell_type": "code",
   "execution_count": null,
   "metadata": {},
   "outputs": [],
   "source": []
  }
 ],
 "metadata": {
  "kernelspec": {
   "display_name": "Python 3 (ipykernel)",
   "language": "python",
   "name": "python3"
  },
  "language_info": {
   "codemirror_mode": {
    "name": "ipython",
    "version": 3
   },
   "file_extension": ".py",
   "mimetype": "text/x-python",
   "name": "python",
   "nbconvert_exporter": "python",
   "pygments_lexer": "ipython3",
   "version": "3.8.18"
  }
 },
 "nbformat": 4,
 "nbformat_minor": 4
}
