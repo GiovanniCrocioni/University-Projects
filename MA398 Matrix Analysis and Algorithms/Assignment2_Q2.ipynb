{
 "cells": [
  {
   "cell_type": "markdown",
   "metadata": {},
   "source": [
    "# Question 2"
   ]
  },
  {
   "cell_type": "code",
   "execution_count": 2,
   "metadata": {},
   "outputs": [],
   "source": [
    "# Import libraries\n",
    "\n",
    "import numpy as np\n",
    "import math\n",
    "import pandas as pd\n",
    "import matplotlib.pyplot as plt"
   ]
  },
  {
   "cell_type": "markdown",
   "metadata": {},
   "source": [
    "### Part a)"
   ]
  },
  {
   "cell_type": "code",
   "execution_count": 2,
   "metadata": {},
   "outputs": [],
   "source": [
    "# We define a function Vardermonde which gives us our matrix \n",
    "\n",
    "def Vandermonde(x,d):\n",
    "    n = np.size(x)\n",
    "    d = n - 1\n",
    "    V = np.zeros((n,d+1))\n",
    "    for i in range(d+1):\n",
    "        V[:,i] = x**i\n",
    "    return V"
   ]
  },
  {
   "cell_type": "code",
   "execution_count": 3,
   "metadata": {},
   "outputs": [],
   "source": [
    "# We commpute the Condition number two ways, one directly, the other by multiplying the two norms of the matrix and its transpose\n",
    "# The norm I chose was the Frobenius Norm\n",
    "\n",
    "def Condition1(V):\n",
    "    FN_1 = np.linalg.norm(V, 'fro')\n",
    "    FN_2 = np.linalg.norm(np.linalg.inv(V), 'fro')\n",
    "    K = FN_1*FN_2\n",
    "    return K\n",
    "\n",
    "def Condition2(V):\n",
    "    K = np.linalg.cond(V, 'fro')\n",
    "    return K"
   ]
  },
  {
   "cell_type": "code",
   "execution_count": 4,
   "metadata": {},
   "outputs": [],
   "source": [
    "# We define a function which creates equidistant points in [-1,1]\n",
    "\n",
    "def f(n):\n",
    "    x = np.linspace(-1,1,n)\n",
    "    return x"
   ]
  },
  {
   "cell_type": "code",
   "execution_count": 5,
   "metadata": {},
   "outputs": [],
   "source": [
    "# Combining everything together, I get a function which can be set to return x or y\n",
    "\n",
    "def Condition_Vandermonde(n):\n",
    "    x = Condition1(Vandermonde(f(n),0))\n",
    "    y = Condition1(Vandermonde(f(n),0))\n",
    "    return x "
   ]
  },
  {
   "cell_type": "code",
   "execution_count": 6,
   "metadata": {},
   "outputs": [
    {
     "name": "stdout",
     "output_type": "stream",
     "text": [
      "1.0 2.0 11.952179522416689 269.347759873128 6830.665068194263 414609588.27312267 1.8982738115902116e+19\n",
      "The condition number clearly increases very rapidly as we increase the size of the Vandermonde matrix\n"
     ]
    }
   ],
   "source": [
    "# The condition number of a few Vandermonde Matrices\n",
    "\n",
    "print(Condition_Vandermonde(1),Condition_Vandermonde(2),Condition_Vandermonde(4),\n",
    "      Condition_Vandermonde(7),Condition_Vandermonde(10),Condition_Vandermonde(20),Condition_Vandermonde(100))\n",
    "\n",
    "print('The condition number clearly increases very rapidly as we increase the size of the Vandermonde matrix')"
   ]
  },
  {
   "cell_type": "markdown",
   "metadata": {},
   "source": [
    "### Part b)"
   ]
  },
  {
   "cell_type": "code",
   "execution_count": 11,
   "metadata": {},
   "outputs": [
    {
     "data": {
      "text/plain": [
       "array([-3.34310357e-12,  1.00000000e+00, -8.08242362e-14,  8.10462808e-15])"
      ]
     },
     "execution_count": 11,
     "metadata": {},
     "output_type": "execute_result"
    }
   ],
   "source": [
    "# We define a function LSP which takes a vector x to generate a Vandermomde matrix and an output value b\n",
    "# and it returns an array of coefficients which minimise the square error.\n",
    "\n",
    "def LSP(x,b):\n",
    "    V = np.zeros((5,4))\n",
    "    for i in range(4):\n",
    "        V[:,i] = x**i\n",
    "        \n",
    "# Matrix Transpose\n",
    "\n",
    "    VT = np.matrix.transpose(V)\n",
    "\n",
    "# In order to minimise the square distance, we solve x = (VT*V)^(-1)*VT*b\n",
    "\n",
    "    Sol = np.dot(np.matmul(np.linalg.inv(np.matmul(VT,V)),VT),b)\n",
    "    return Sol\n",
    "LSP(np.array([1,2,3,4,5]),np.array([1,2,3,4,5]))"
   ]
  },
  {
   "cell_type": "markdown",
   "metadata": {},
   "source": [
    "### Part c)"
   ]
  },
  {
   "cell_type": "code",
   "execution_count": 8,
   "metadata": {},
   "outputs": [
    {
     "data": {
      "image/png": "[encoded data removed]",
      "text/plain": [
       "<Figure size 432x288 with 1 Axes>"
      ]
     },
     "metadata": {
      "needs_background": "light"
     },
     "output_type": "display_data"
    }
   ],
   "source": [
    "# Get the data from Excel\n",
    "\n",
    "var = pd.read_csv(r'C:\\Users\\Giovanni Laura\\OneDrive\\Documents\\Giovanni\\Warwick\\Third Year\\MA398 Matrix Analysis & Algorithms\\Assignments\\Assignment 2\\WeatherData.csv')\n",
    "\n",
    "# Plot the data and add labels to the axis\n",
    "\n",
    "plt.scatter(var['Pressure (millibars)'], var['Humidity'])\n",
    "plt.ylabel('Humidity')\n",
    "plt.xlabel('Pressure (millibars)')\n",
    "\n",
    "# Convert to numpy\n",
    "\n",
    "data = var.to_numpy()\n",
    "\n",
    "# Define a function which takes an input matrix generated by a vector x and integer d, and a target vector b\n",
    "\n",
    "def LSP(x,b,d):\n",
    "    n = np.size(x)\n",
    "    V = np.zeros((n,d))\n",
    "    for i in range(d):\n",
    "        V[:,i] = x**i\n",
    "        \n",
    "# Matrix Transpose\n",
    "\n",
    "    VT = np.matrix.transpose(V)\n",
    "    \n",
    "# In order to minimise the square distance, we solve x = (VT*V)^(-1)*VT*b      \n",
    "\n",
    "    Sol = np.dot(np.matmul(np.linalg.inv(np.matmul(VT,V)),VT),b)\n",
    "    return Sol"
   ]
  },
  {
   "cell_type": "code",
   "execution_count": 13,
   "metadata": {},
   "outputs": [
    {
     "name": "stdout",
     "output_type": "stream",
     "text": [
      "When d = 0, the coefficients for the LSP are []\n",
      "When d = 1, the coefficients for the LSP are [0.35466667]\n",
      "When d = 2, the coefficients for the LSP are [ 1.77927556e+01 -1.72620923e-02]\n",
      "When d = 3, the coefficients for the LSP are [ 8.10999667e+03 -1.60465830e+01  7.93764970e-03]\n",
      "When d = 4, the coefficients for the LSP are [ 1.05701181e+05 -3.05998258e+02  2.95089958e-01 -9.47917774e-05]\n",
      "When d = 5, the coefficients for the LSP are [ 6.19962916e+04 -9.14447483e+01 -8.51635337e-02  1.96883470e-04\n",
      " -8.22704168e-08]\n"
     ]
    }
   ],
   "source": [
    "# Get the coefficients for the LSP for d = 0,1,2,3,4,5\n",
    "\n",
    "def f(x):\n",
    "    y = LSP(data[:90,0], data[:90,1], x)\n",
    "    return y\n",
    "print('When d = 0, the coefficients for the LSP are', f(0))\n",
    "print('When d = 1, the coefficients for the LSP are', f(1))\n",
    "print('When d = 2, the coefficients for the LSP are', f(2))\n",
    "print('When d = 3, the coefficients for the LSP are', f(3))\n",
    "print('When d = 4, the coefficients for the LSP are', f(4))\n",
    "print('When d = 5, the coefficients for the LSP are', f(5))"
   ]
  },
  {
   "cell_type": "code",
   "execution_count": 10,
   "metadata": {},
   "outputs": [
    {
     "data": {
      "text/plain": [
       "Text(0.5, 0, 'Polynomial order')"
      ]
     },
     "execution_count": 10,
     "metadata": {},
     "output_type": "execute_result"
    },
    {
     "data": {
      "image/png": "[encoded data removed]",
      "text/plain": [
       "<Figure size 432x288 with 1 Axes>"
      ]
     },
     "metadata": {
      "needs_background": "light"
     },
     "output_type": "display_data"
    }
   ],
   "source": [
    "# Relative forward error of polynomial models\n",
    "\n",
    "def RFE(d):\n",
    "    V = np.zeros((90,d+1))\n",
    "    for i in range(d+1):\n",
    "        V[:,i] = data[:90,0]**i\n",
    "    a = np.dot(V, f(d+1))\n",
    "    b = np.linalg.norm(a - data[:90,1] ,2)\n",
    "    c = b/np.linalg.norm(data[:90,1],2)\n",
    "    return c\n",
    "\n",
    "plt.scatter([0,1,2,3,4,5],[RFE(0),RFE(1),RFE(2),RFE(3),RFE(4),RFE(5)])\n",
    "plt.ylabel('Relative forward error')\n",
    "plt.xlabel('Polynomial order')"
   ]
  },
  {
   "cell_type": "code",
   "execution_count": 11,
   "metadata": {},
   "outputs": [
    {
     "data": {
      "text/plain": [
       "Text(0.5, 0, 'Polynomial order')"
      ]
     },
     "execution_count": 11,
     "metadata": {},
     "output_type": "execute_result"
    },
    {
     "data": {
      "image/png": "[encoded data removed]",
      "text/plain": [
       "<Figure size 432x288 with 1 Axes>"
      ]
     },
     "metadata": {
      "needs_background": "light"
     },
     "output_type": "display_data"
    }
   ],
   "source": [
    "# Relative forward error on test data\n",
    "\n",
    "def RFE(d):\n",
    "    V = np.zeros((10,d+1))\n",
    "    for i in range(d+1):\n",
    "        V[:,i] = data[90:,0]**i\n",
    "    a = np.dot(V, f(d+1))\n",
    "    b = np.linalg.norm(a - data[90:,1] ,2)\n",
    "    c = b/np.linalg.norm(data[90:,1])\n",
    "    return c\n",
    "\n",
    "plt.scatter([0,1,2,3,4,5],[RFE(0),RFE(1),RFE(2),RFE(3),RFE(4),RFE(5)])\n",
    "plt.ylabel('Relative forward error on test data')\n",
    "plt.xlabel('Polynomial order')"
   ]
  },
  {
   "cell_type": "markdown",
   "metadata": {},
   "source": [
    "The order of the polynomial which gives the best result is order 2, as it has the joint smallest relative forward error\n",
    "for both the original data as well as the test data, with the other one being order 3. 2 is better firstly for simplicity,\n",
    "and second of all from the plot above we can see the shape of an order 2 polynomial but don't know if it has a local maxima\n",
    "outside of our input range which would imply at least an order 3, so it's better to pick order 2."
   ]
  },
  {
   "cell_type": "code",
   "execution_count": 12,
   "metadata": {},
   "outputs": [
    {
     "name": "stdout",
     "output_type": "stream",
     "text": [
      "For day 96, the best estimate was 0.14124229118624498 whereas the observed value was 0.16\n",
      "For day 97, the best estimate was 0.6100486910472682 whereas the observed value was 0.81\n",
      "For day 98, the best estimate was 0.14481904928561562 whereas the observed value was 0.12\n",
      "For day 99, the best estimate was 0.31324620885698096 whereas the observed value was 0.34\n",
      "For day 100, the best estimate was 0.18277975718046946 whereas the observed value was 0.20\n"
     ]
    }
   ],
   "source": [
    "# Lets calculate the estimates for the humidity of the last five days\n",
    "\n",
    "V = np.zeros((5,3))\n",
    "for i in range(3):\n",
    "    V[:,i] = data[95:,0]**i\n",
    "a = np.dot(V, f(3))\n",
    "\n",
    "print('For day 96, the best estimate was', a[0] , 'whereas the observed value was 0.16')\n",
    "print('For day 97, the best estimate was', a[1] , 'whereas the observed value was 0.81')\n",
    "print('For day 98, the best estimate was', a[2] , 'whereas the observed value was 0.12')\n",
    "print('For day 99, the best estimate was', a[3] , 'whereas the observed value was 0.34')\n",
    "print('For day 100, the best estimate was', a[4] , 'whereas the observed value was 0.20')"
   ]
  }
 ],
 "metadata": {
  "kernelspec": {
   "display_name": "Python 3",
   "language": "python",
   "name": "python3"
  },
  "language_info": {
   "codemirror_mode": {
    "name": "ipython",
    "version": 3
   },
   "file_extension": ".py",
   "mimetype": "text/x-python",
   "name": "python",
   "nbconvert_exporter": "python",
   "pygments_lexer": "ipython3",
   "version": "3.8.5"
  }
 },
 "nbformat": 4,
 "nbformat_minor": 4
}
