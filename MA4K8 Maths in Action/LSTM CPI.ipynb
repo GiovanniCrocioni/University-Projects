{
 "cells": [
  {
   "cell_type": "markdown",
   "metadata": {},
   "source": [
    "# LSTM for CPI prediction"
   ]
  },
  {
   "cell_type": "markdown",
   "metadata": {},
   "source": [
    "Imports"
   ]
  },
  {
   "cell_type": "code",
   "execution_count": null,
   "metadata": {},
   "outputs": [],
   "source": [
    "# Standard library imports\n",
    "import numpy as np\n",
    "import matplotlib.pyplot as plt\n",
    "import pandas as pd\n",
    "\n",
    "# Third-party library imports\n",
    "import tensorflow as tf\n",
    "from tensorflow.keras.models import Sequential\n",
    "from tensorflow.keras.layers import Dense, LSTM\n",
    "from sklearn.preprocessing import MinMaxScaler\n",
    "from sklearn.metrics import mean_squared_error\n",
    "from sklearn.model_selection import train_test_split"
   ]
  },
  {
   "cell_type": "markdown",
   "metadata": {},
   "source": [
    "Data preparation"
   ]
  },
  {
   "cell_type": "code",
   "execution_count": null,
   "metadata": {},
   "outputs": [],
   "source": [
    "# Load dataset\n",
    "data = pd.read_csv('Monthly_data.csv')\n",
    "\n",
    "# Preprocess data\n",
    "# Remove unnecessary columns and handle missing values\n",
    "data.drop(columns=['Year and Month'], inplace=True)  # Drop unwanted column\n",
    "data.dropna(inplace=True)  # Remove rows with missing values\n",
    "\n",
    "# Setup for prediction task\n",
    "lag = 1  # Number of months ahead to predict\n",
    "column_name = f'CPI {lag} Month{\"s\" if lag > 1 else \"\"} ahead'\n",
    "data[column_name] = data['CPI'].shift(-lag)  # Target variable for prediction\n",
    "\n",
    "# Select features and target for modeling\n",
    "# Excludes 'Year and Month' from features and uses dynamically selected last column as the target\n",
    "features = data.columns[1:-1]  # Features selection\n",
    "target = data.columns[-1]  # Target variable\n",
    "\n",
    "# Initialize and apply MinMaxScaler\n",
    "scaler = MinMaxScaler()\n",
    "data[features] = scaler.fit_transform(data[features])  # Scale features\n",
    "data[[target]] = scaler.fit_transform(data[[target]])  # Scale target variable separately\n",
    "\n",
    "data "
   ]
  },
  {
   "cell_type": "markdown",
   "metadata": {},
   "source": [
    "Data used to make predictions"
   ]
  },
  {
   "cell_type": "code",
   "execution_count": null,
   "metadata": {},
   "outputs": [],
   "source": [
    "# Define parameters for the sequence and prediction\n",
    "sequence_length = 20  # The length of input sequences for the model\n",
    "test_split = 0.2  # Fraction of the data to be used as the test set\n",
    "\n",
    "# Copy the original DataFrame to preserve the original data\n",
    "data_for_prediction = data.copy()\n",
    "\n",
    "# Select the final sequence of data for making future predictions\n",
    "# This dataset will be used to predict the future value(s) outside of the available dataset\n",
    "data_for_prediction = data_for_prediction.iloc[-( sequence_length + lag - 1):, :]\n",
    "\n",
    "# Prepare the dataset for training and testing the model\n",
    "# Exclude the last part used for prediction to ensure we are only working with historical data\n",
    "data_for_model = data.iloc[:-lag , :]\n",
    "\n",
    "# Split the historical data into training and testing datasets\n",
    "# Determine the index to split the data\n",
    "test_data_size = int(len(data_for_model) * test_split)\n",
    "\n",
    "# Split the data into training and testing sets\n",
    "train_data = data_for_model[:-test_data_size]\n",
    "test_data = data_for_model[-test_data_size:]\n",
    "\n",
    "# Display the prepared training data\n",
    "print(\"Training data shape:\", train_data.shape)\n",
    "print(\"Testing data shape:\", test_data.shape)"
   ]
  },
  {
   "cell_type": "markdown",
   "metadata": {},
   "source": [
    "Create the sequences from the features and target"
   ]
  },
  {
   "cell_type": "code",
   "execution_count": null,
   "metadata": {},
   "outputs": [],
   "source": [
    "def create_sequences(data, input_columns, target_column, sequence_length):\n",
    "    \"\"\"Create sequences of input features and target values.\"\"\"\n",
    "    X, y = [], []\n",
    "    for i in range(len(data) - sequence_length):\n",
    "        # Extract the sequence of input features\n",
    "        X.append(data[input_columns].iloc[i:i+sequence_length].values)\n",
    "        # Extract the target value following the sequence\n",
    "        y.append(data[target_column].iloc[i+sequence_length])\n",
    "    \n",
    "    return np.array(X), np.array(y)\n",
    "\n",
    "# Specify the input and target columns\n",
    "input_columns = features \n",
    "target_column = target  \n",
    "\n",
    "# Generate sequences for the LSTM model\n",
    "X_train, y_train = create_sequences(train_data, input_columns, target_column, sequence_length)\n",
    "X_test, y_test = create_sequences(test_data, input_columns, target_column, sequence_length)\n",
    "\n",
    "# Output the shape of the training data sequences for verification\n",
    "print(\"Training data sequences shape:\", X_train.shape)\n",
    "print(\"Test data sequences shape:\", X_test.shape)"
   ]
  },
  {
   "cell_type": "markdown",
   "metadata": {},
   "source": [
    "Model 1 - One LSTM layer"
   ]
  },
  {
   "cell_type": "code",
   "execution_count": null,
   "metadata": {},
   "outputs": [],
   "source": [
    "model = Sequential([\n",
    "    LSTM(50, activation='tanh', recurrent_activation='sigmoid',\n",
    "         input_shape=(X_train.shape[1], X_train.shape[2]),\n",
    "         dropout=0.05, recurrent_dropout=0.05),\n",
    "    Dense(1)\n",
    "])\n",
    "\n",
    "# Trying the Adam optimizer\n",
    "model.compile(optimizer='adam', loss='mse')\n",
    "\n",
    "model.summary()\n",
    "\n",
    "# Include validation split for training monitoring\n",
    "history = model.fit(X_train, y_train, epochs=500, validation_split=0.05, batch_size=32)\n",
    "\n",
    "train_loss = model.evaluate(X_train, y_train, verbose=0)\n",
    "test_loss = model.evaluate(X_test, y_test, verbose=0)\n",
    "\n",
    "print(f'Training Loss: {train_loss}')\n",
    "print(f'Testing Loss: {test_loss}')\n"
   ]
  },
  {
   "cell_type": "markdown",
   "metadata": {},
   "source": [
    "Model 2 - Two LSTM layers"
   ]
  },
  {
   "cell_type": "code",
   "execution_count": null,
   "metadata": {},
   "outputs": [],
   "source": [
    "'''\n",
    "# Model architecture\n",
    "\n",
    "model = Sequential([\n",
    "    # First LSTM layer returns sequences to feed into the next LSTM layer\n",
    "    LSTM(20, activation='tanh', input_shape=(X_test.shape[1], X_test.shape[2]), return_sequences=True),\n",
    "    # Second LSTM layer only needs to return the last output\n",
    "    LSTM(2, activation='relu'),\n",
    "    # Followed by a Dense layer that makes the final prediction\n",
    "    Dense(1)\n",
    "])\n",
    "\n",
    "model.compile(optimizer='sgd', loss='mse')\n",
    "\n",
    "# Model summary\n",
    "model.summary()\n",
    "\n",
    "# Fit the model\n",
    "history = model.fit(X_train, y_train, epochs=100, validation_split=0.2, batch_size=32)\n",
    "\n",
    "train_loss = model.evaluate(X_train, y_train, verbose=0)\n",
    "test_loss = model.evaluate(X_test, y_test, verbose=0)\n",
    "\n",
    "print(f'Training Loss: {train_loss}')\n",
    "print(f'Testing Loss: {test_loss}')\n",
    "'''"
   ]
  },
  {
   "cell_type": "code",
   "execution_count": null,
   "metadata": {},
   "outputs": [],
   "source": [
    "n_iterations = 3\n",
    "train_losses = []\n",
    "test_losses = []\n",
    "\n",
    "for i in range(n_iterations):\n",
    "    print(f\"Running iteration: {i+1}/{n_iterations}\")\n",
    "    \n",
    "    # Re-initialize the model at each iteration\n",
    "    model = Sequential([\n",
    "        LSTM(200, activation='tanh', recurrent_activation='sigmoid',\n",
    "             input_shape=(X_train.shape[1], X_train.shape[2]),\n",
    "             dropout=0.1, recurrent_dropout=0.1),\n",
    "        Dense(1)\n",
    "    ])\n",
    "    \n",
    "    model.compile(optimizer='adam', loss='mse')\n",
    "    \n",
    "    # Fit the model\n",
    "    model.fit(X_train, y_train, epochs=200, validation_split=0.0, batch_size=32, verbose=0)  # Set verbose=0 for less output\n",
    "    \n",
    "    # Evaluate the model\n",
    "    train_loss = model.evaluate(X_train, y_train, verbose=0)\n",
    "    test_loss = model.evaluate(X_test, y_test, verbose=0)\n",
    "    \n",
    "    # Store losses\n",
    "    train_losses.append(train_loss)\n",
    "    test_losses.append(test_loss)\n",
    "\n",
    "# Calculate the average losses\n",
    "average_train_loss = np.mean(train_losses)\n",
    "average_test_loss = np.mean(test_losses)\n",
    "\n",
    "print(f'Average Training Loss: {average_train_loss}')\n",
    "print(f'Average Testing Loss: {average_test_loss}')\n"
   ]
  },
  {
   "cell_type": "markdown",
   "metadata": {},
   "source": [
    "Visualise training loss vs validation loss"
   ]
  },
  {
   "cell_type": "code",
   "execution_count": null,
   "metadata": {},
   "outputs": [],
   "source": [
    "import matplotlib.pyplot as plt\n",
    "\n",
    "# Plot training & validation loss values\n",
    "plt.plot(history.history['loss'], label='Training loss')\n",
    "plt.plot(history.history['val_loss'], label='Validation loss')\n",
    "plt.title('Model loss')\n",
    "plt.ylabel('Loss')\n",
    "plt.xlabel('Epoch')\n",
    "plt.legend(loc='upper right')\n",
    "plt.show()\n"
   ]
  },
  {
   "cell_type": "markdown",
   "metadata": {},
   "source": [
    "Predictions"
   ]
  },
  {
   "cell_type": "code",
   "execution_count": null,
   "metadata": {},
   "outputs": [],
   "source": [
    "X_full, y_full = create_sequences(data_for_model, input_columns, target_column, sequence_length)\n",
    "\n",
    "model = Sequential([\n",
    "    LSTM(50, activation='tanh', recurrent_activation='sigmoid',\n",
    "         input_shape=(X_train.shape[1], X_train.shape[2]),\n",
    "         dropout=0.03, recurrent_dropout=0.03),\n",
    "    Dense(1)\n",
    "])\n",
    "\n",
    "model.compile(optimizer='adam', loss='mse')\n",
    "\n",
    "model.fit(X_full, y_full, epochs=200, validation_split=0.0, batch_size=32, verbose=0)\n",
    "\n",
    "def create_sequences_X(data, input_columns, sequence_length):\n",
    "    X= []\n",
    "    for i in range(lag):\n",
    "        X.append(data[input_columns].iloc[i:i+sequence_length].values)\n",
    "    \n",
    "    return np.array(X)\n",
    "\n",
    "input_columns = features\n",
    "\n",
    "X_prediction = create_sequences_X(data_for_prediction, input_columns, sequence_length)\n",
    "\n",
    "predicted_cpi = model.predict(X_prediction)\n",
    "\n",
    "predicted_cpi_inverted = scaler.inverse_transform(predicted_cpi)\n",
    "\n",
    "predicted_cpi_inverted"
   ]
  },
  {
   "cell_type": "markdown",
   "metadata": {},
   "source": [
    "Predictions averaged"
   ]
  },
  {
   "cell_type": "code",
   "execution_count": null,
   "metadata": {},
   "outputs": [],
   "source": [
    "# Store all predicted CPIs\n",
    "all_predicted_cpi_inverted = []\n",
    "\n",
    "for run in range(10):\n",
    "    X_full, y_full = create_sequences(data_for_model, input_columns, target_column, sequence_length)\n",
    "\n",
    "    model = Sequential([\n",
    "        LSTM(200, activation='tanh', recurrent_activation='sigmoid',\n",
    "             input_shape=(X_full.shape[1], X_full.shape[2]),\n",
    "             dropout=0.1, recurrent_dropout=0.1),\n",
    "        Dense(1)\n",
    "    ])\n",
    "\n",
    "    # Compile and fit the model\n",
    "    model.compile(optimizer='adam', loss='mse')\n",
    "    model.fit(X_full, y_full, epochs=200, validation_split=0.0, batch_size=32, verbose=0)\n",
    "\n",
    "    # Assuming the create_sequences_X function and necessary inputs are defined correctly\n",
    "    X_prediction = create_sequences_X(data_for_prediction, input_columns, sequence_length)\n",
    "    predicted_cpi = model.predict(X_prediction)\n",
    "    predicted_cpi_inverted = scaler.inverse_transform(predicted_cpi)\n",
    "\n",
    "    all_predicted_cpi_inverted.append(predicted_cpi_inverted)\n",
    "\n",
    "# Convert the list of numpy arrays to a 3D numpy array for easier averaging\n",
    "all_predicted_cpi_inverted_array = np.array(all_predicted_cpi_inverted)\n",
    "\n",
    "# Calculate the average across the first dimension (runs)\n",
    "average_predicted_cpi_inverted = np.mean(all_predicted_cpi_inverted_array, axis=0)\n",
    "\n",
    "print(\"Average of CPI Inverted:\", average_predicted_cpi_inverted)"
   ]
  }
 ],
 "metadata": {
  "kernelspec": {
   "display_name": "base",
   "language": "python",
   "name": "python3"
  },
  "language_info": {
   "codemirror_mode": {
    "name": "ipython",
    "version": 3
   },
   "file_extension": ".py",
   "mimetype": "text/x-python",
   "name": "python",
   "nbconvert_exporter": "python",
   "pygments_lexer": "ipython3",
   "version": "3.11.5"
  }
 },
 "nbformat": 4,
 "nbformat_minor": 2
}
