{
 "cells": [
  {
   "cell_type": "markdown",
   "metadata": {},
   "source": [
    "**Student ID:** 2012149 and 1904805\n",
    "\n",
    "---\n",
    "## Assignment 3 Part II \n",
    "\n",
    "We begin by importing the libraries we will need to complete the assignment."
   ]
  },
  {
   "cell_type": "code",
   "execution_count": 1,
   "metadata": {},
   "outputs": [],
   "source": [
    "import numpy as np\n",
    "from numpy import array\n",
    "from numpy.linalg import solve\n",
    "from scipy . special import ellipj\n",
    "from scipy.linalg import expm, inv\n",
    "import pandas as pd\n",
    "\n",
    "from numpy import array, linspace, log, zeros, nan, eye\n",
    "from numpy.linalg import norm, inv\n",
    "\n",
    "from matplotlib import pyplot as plt\n",
    "plt.rcParams.update({'font.size': 18}) # increase font size"
   ]
  },
  {
   "cell_type": "markdown",
   "metadata": {},
   "source": [
    "**Problem Set-Up**\n",
    "\n",
    "For question 2.1 and 2.2, we will test our implementation on both the *Backward Euler* and the *Midpoint* method using the 2x2 ODE: \n",
    "\n",
    "$$y'(t)=F(y(t)) \\;\\;\\;\\;\\;\\; y(0)=y_0 $$ with :\n",
    "$$ F(y_1,y_2) = \\left(\\begin{array}{cc} y_2 \\\\[1ex] y_2(\\lambda-2y_1) \\end{array}\\right) $$\n",
    "\n",
    "Given $\\lambda=1$ and initial conditions $y_0=(2, -2)^T$, this has the exact solution:\n",
    "\n",
    "$$ Y(t) = \\left(\\begin{array}{cc}\n",
    "   \\frac{2e^t}{2e^t-1} \\\\[2ex]\n",
    "    \\frac{-2e^{t}}{4e^{2t}-4e^t+1}\n",
    " \\end{array}\\right) $$\n",
    " \n",
    " We will solve this on the interval $[0,T]$, where in this particular exercise $T=1$.\n",
    " \n",
    " Coding wise, we begin by defining the function f, its jacobian Df, and the exact solution Y."
   ]
  },
  {
   "cell_type": "code",
   "execution_count": 2,
   "metadata": {},
   "outputs": [],
   "source": [
    "T = 1\n",
    "\n",
    "def f(t,y): # Function f \n",
    "    return array([y[1], y[1]*(1-2*y[0])])\n",
    "\n",
    "def Df(t,y): # Jacobian of the function f \n",
    "    return array([[0,1],[2*y[1],1-2*y[0]]])\n",
    "\n",
    "def Y(t):    # Exact solution\n",
    "    return np.array([2*np.exp(t)/(2*np.exp(t)-1),-2*np.exp(t)/(4*np.exp(2*t)-4*np.exp(t)+1)])"
   ]
  },
  {
   "cell_type": "markdown",
   "metadata": {},
   "source": [
    "We now import the five methods used in quiz 1 and 2, which are *npPrint*, *evolve*, *computeEocs*, *newton*, and *backwardEuler*. "
   ]
  },
  {
   "cell_type": "code",
   "execution_count": 3,
   "metadata": {},
   "outputs": [],
   "source": [
    "# The defintions from quiz 3\n",
    "\n",
    "def newton(F,DF,x0,eps,K):\n",
    "    k  = 0\n",
    "    x  = x0.copy().astype(np.float64)  # note: with x=x0 changes to x also changes to x0 with numpy arrays\n",
    "    Fx = F(x)\n",
    "    while Fx.dot(Fx) > eps*eps and k<K:\n",
    "        x[:] -= solve(DF(x), Fx)  # don't construct a new vector in each step - they could be large\n",
    "        Fx = F(x)\n",
    "        k += 1\n",
    "    return x,k\n",
    "\n",
    "def dirk(f,Df, t0,y0, h, alpha,beta,gamma):\n",
    "    m = len(y0)\n",
    "    s = len(gamma)\n",
    "    y = y0.copy().astype(float)\n",
    "    k = np.zeros([s,m])\n",
    "    for i in range(s):\n",
    "        ti = t0+alpha[i]*h\n",
    "        yi = y0.copy().astype(float)\n",
    "        for j in range(i):\n",
    "            yi += h*beta[i,j]*k[j]\n",
    "        k[i,:] = f(ti,yi);        \n",
    "        if beta[i,i] > 0:\n",
    "            k[i,:],K = newton (lambda k: k-f(ti,yi+h*beta[i,i]*k),\n",
    "                             lambda k: np.eye(m)-h*beta[i,i]*Df(ti,yi+h*beta[i,i]*k),\n",
    "                             k[i,:], 1e-15, 1000)\n",
    "            assert K < 1000        \n",
    "        y += h*gamma[i]*k[i,:]\n",
    "    return y\n",
    "        \n",
    "def backwardEuler( f,Df, t0,y0, h):\n",
    "    # not good style but reduces polution of the global namespace when running the tests\n",
    "    from numpy import eye\n",
    "    F =  lambda delta: delta-f(t0+h,y0+h*delta)\n",
    "    DF = lambda delta: eye(len(y0))-h*Df(t0+h,y0+h*delta)\n",
    "    delta,_ = newton(F,DF,f(t0+h,y0),h*h*1e-5,1000)\n",
    "    return y0+h*delta\n",
    "\n",
    "def evolve(phi,f,Df,t0,y0,T,N):\n",
    "    h = T/N\n",
    "    y = np.zeros([N+1, len(y0)])\n",
    "    y[0] = y0\n",
    "    t = 0\n",
    "    for i in range(N):\n",
    "        y[i+1] = phi(f,Df,t,y[i],h)\n",
    "        t = t+h\n",
    "    return y\n",
    "\n",
    "def computeEocs( herr ): \n",
    "    eocs = np.zeros(len(herr)-1)\n",
    "    for i in range(len(eocs)):\n",
    "        eocs [i] = np.log(herr[i+1][1]/herr[i][1])/np.log(herr[i+1][0]/herr[i][0])\n",
    "    return eocs\n",
    "\n",
    "def npPrint(a, f={'float_kind':lambda x: \"%.5e\" % x}): \n",
    "   print( np.array2string(a, formatter=f) )"
   ]
  },
  {
   "cell_type": "markdown",
   "metadata": {},
   "source": [
    "We are going to compute errors at the final time t and the EOC for the sequence of time steps given by $ h_{i}= \\frac{1}{N_{i}} $ with $ N_{i} = N_{0} * 2^{i} $ for $i \\in {(0,...,10)}$ and $N_{0} = 20$ . \n",
    "\n",
    "To avoid code duplication, we implement a function *experiment* to perform the computation of the errors for the given time steps and the eocs. The method returns an array of length 11, with each entry of the form ‘[h,error,eoc]’."
   ]
  },
  {
   "cell_type": "code",
   "execution_count": 4,
   "metadata": {},
   "outputs": [],
   "source": [
    "def experiment(stepper): \n",
    "    M =11\n",
    "    herr = np.zeros((M,3)) \n",
    "    for m in range(M):\n",
    "        N = 20*2**m\n",
    "        h = 1/N\n",
    "        y = evolve(stepper, f,Df, 0,Y(0),T, N)\n",
    "        herr[m][0] = h\n",
    "        herr[m][1]= np.linalg.norm(y[-1]-Y(T))\n",
    "    for i in range(10):\n",
    "        herr[i+1][2]= computeEocs(herr)[i]\n",
    "    return herr"
   ]
  },
  {
   "cell_type": "markdown",
   "metadata": {},
   "source": [
    "# Question 2.1\n",
    "\n",
    "\n",
    "We test our simulation using the Backward Euler Method. The Backward Euler Method has the following butcher table: $$ \\begin{array}{l|l} 1&1 \\\\ \\hline & 1 \\end{array} $$\n",
    "\n",
    "\n",
    "\n",
    "The table below has three columns, one for the time step h, one for the approximation error, and the final column showing the experimental order of convergence. "
   ]
  },
  {
   "cell_type": "code",
   "execution_count": 5,
   "metadata": {},
   "outputs": [],
   "source": [
    "aCN = np.array([1])\n",
    "bCN = np.array([[1]])\n",
    "gCN = np.array([1])\n",
    "\n",
    "stepper = lambda f,Df,t0,y0,h: dirk(f,Df,t0,y0,h,aCN,bCN,gCN)\n",
    "resBE = experiment(stepper)\n"
   ]
  },
  {
   "cell_type": "markdown",
   "metadata": {},
   "source": [
    "\n",
    "We test our simulation using the Midpoint Method. The Midpoint Method has the following butcher table: $$ \\begin{array}{l|l} 1/2&1/2 \\\\ \\hline & 1 \\end{array} $$ \n",
    "\n",
    "\n",
    "\n",
    "The table below has three columns, one for the time step h, one for the approximation error, and the final column showing the experimental order of convergence. "
   ]
  },
  {
   "cell_type": "code",
   "execution_count": 6,
   "metadata": {},
   "outputs": [],
   "source": [
    "aCN = np.array([1/2])\n",
    "bCN = np.array([[1/2]])\n",
    "gCN = np.array([1])\n",
    "\n",
    "stepper = lambda f,Df,t0,y0,h: dirk(f,Df,t0,y0,h,aCN,bCN,gCN)\n",
    "resMP = experiment(stepper)"
   ]
  },
  {
   "cell_type": "markdown",
   "metadata": {},
   "source": [
    "\n",
    "We test our simulation using the third order Dirk method. This method has the following butcher table: $$ \\begin{array}\n",
    "{c|cccc}\n",
    "\\frac{1}{3} &\\frac{1}{3} &0 \\\\\n",
    "1& 1& 0& \\\\\n",
    "\\hline\n",
    "& \\frac{3}{4} &\\frac{1}{4}\n",
    "\\end{array} $$\n",
    "\n",
    "\n",
    "\n",
    "The table below has three columns, one for the time step h, one for the approximation error, and the final column showing the experimental order of convergence. "
   ]
  },
  {
   "cell_type": "code",
   "execution_count": 7,
   "metadata": {},
   "outputs": [],
   "source": [
    "aCN = np.array([1/3,1])\n",
    "bCN = np.array([[1/3,0],[1,0]])\n",
    "gCN = np.array([3/4,1/4])\n",
    "\n",
    "stepper = lambda f,Df,t0,y0,h: dirk(f,Df,t0,y0,h,aCN,bCN,gCN)\n",
    "resDI = experiment(stepper)"
   ]
  },
  {
   "cell_type": "code",
   "execution_count": 8,
   "metadata": {},
   "outputs": [
    {
     "data": {
      "text/html": [
       "<style  type=\"text/css\" >\n",
       "</style><table id=\"T_ad0df16f_9e07_11ec_8a24_7cb0c2e375c3\" ><thead>    <tr>        <th class=\"blank level0\" ></th>        <th class=\"col_heading level0 col0\" >h</th>        <th class=\"col_heading level0 col1\" >BE-error</th>        <th class=\"col_heading level0 col2\" >BE-eoc</th>        <th class=\"col_heading level0 col3\" >Midpoint-error</th>        <th class=\"col_heading level0 col4\" >Midpoint-eoc</th>        <th class=\"col_heading level0 col5\" >Dirk-error</th>        <th class=\"col_heading level0 col6\" >Dirk-eoc</th>    </tr></thead><tbody>\n",
       "                <tr>\n",
       "                        <th id=\"T_ad0df16f_9e07_11ec_8a24_7cb0c2e375c3level0_row0\" class=\"row_heading level0 row0\" >0</th>\n",
       "                        <td id=\"T_ad0df16f_9e07_11ec_8a24_7cb0c2e375c3row0_col0\" class=\"data row0 col0\" >5.0000e-02</td>\n",
       "                        <td id=\"T_ad0df16f_9e07_11ec_8a24_7cb0c2e375c3row0_col1\" class=\"data row0 col1\" >3.471436e-02</td>\n",
       "                        <td id=\"T_ad0df16f_9e07_11ec_8a24_7cb0c2e375c3row0_col2\" class=\"data row0 col2\" >0.000</td>\n",
       "                        <td id=\"T_ad0df16f_9e07_11ec_8a24_7cb0c2e375c3row0_col3\" class=\"data row0 col3\" >5.731942e-04</td>\n",
       "                        <td id=\"T_ad0df16f_9e07_11ec_8a24_7cb0c2e375c3row0_col4\" class=\"data row0 col4\" >0.000</td>\n",
       "                        <td id=\"T_ad0df16f_9e07_11ec_8a24_7cb0c2e375c3row0_col5\" class=\"data row0 col5\" >1.238511e-05</td>\n",
       "                        <td id=\"T_ad0df16f_9e07_11ec_8a24_7cb0c2e375c3row0_col6\" class=\"data row0 col6\" >0.000</td>\n",
       "            </tr>\n",
       "            <tr>\n",
       "                        <th id=\"T_ad0df16f_9e07_11ec_8a24_7cb0c2e375c3level0_row1\" class=\"row_heading level0 row1\" >1</th>\n",
       "                        <td id=\"T_ad0df16f_9e07_11ec_8a24_7cb0c2e375c3row1_col0\" class=\"data row1 col0\" >2.5000e-02</td>\n",
       "                        <td id=\"T_ad0df16f_9e07_11ec_8a24_7cb0c2e375c3row1_col1\" class=\"data row1 col1\" >1.749564e-02</td>\n",
       "                        <td id=\"T_ad0df16f_9e07_11ec_8a24_7cb0c2e375c3row1_col2\" class=\"data row1 col2\" >0.989</td>\n",
       "                        <td id=\"T_ad0df16f_9e07_11ec_8a24_7cb0c2e375c3row1_col3\" class=\"data row1 col3\" >1.431922e-04</td>\n",
       "                        <td id=\"T_ad0df16f_9e07_11ec_8a24_7cb0c2e375c3row1_col4\" class=\"data row1 col4\" >2.001</td>\n",
       "                        <td id=\"T_ad0df16f_9e07_11ec_8a24_7cb0c2e375c3row1_col5\" class=\"data row1 col5\" >1.518548e-06</td>\n",
       "                        <td id=\"T_ad0df16f_9e07_11ec_8a24_7cb0c2e375c3row1_col6\" class=\"data row1 col6\" >3.028</td>\n",
       "            </tr>\n",
       "            <tr>\n",
       "                        <th id=\"T_ad0df16f_9e07_11ec_8a24_7cb0c2e375c3level0_row2\" class=\"row_heading level0 row2\" >2</th>\n",
       "                        <td id=\"T_ad0df16f_9e07_11ec_8a24_7cb0c2e375c3row2_col0\" class=\"data row2 col0\" >1.2500e-02</td>\n",
       "                        <td id=\"T_ad0df16f_9e07_11ec_8a24_7cb0c2e375c3row2_col1\" class=\"data row2 col1\" >8.783413e-03</td>\n",
       "                        <td id=\"T_ad0df16f_9e07_11ec_8a24_7cb0c2e375c3row2_col2\" class=\"data row2 col2\" >0.994</td>\n",
       "                        <td id=\"T_ad0df16f_9e07_11ec_8a24_7cb0c2e375c3row2_col3\" class=\"data row2 col3\" >3.579141e-05</td>\n",
       "                        <td id=\"T_ad0df16f_9e07_11ec_8a24_7cb0c2e375c3row2_col4\" class=\"data row2 col4\" >2.000</td>\n",
       "                        <td id=\"T_ad0df16f_9e07_11ec_8a24_7cb0c2e375c3row2_col5\" class=\"data row2 col5\" >1.879150e-07</td>\n",
       "                        <td id=\"T_ad0df16f_9e07_11ec_8a24_7cb0c2e375c3row2_col6\" class=\"data row2 col6\" >3.015</td>\n",
       "            </tr>\n",
       "            <tr>\n",
       "                        <th id=\"T_ad0df16f_9e07_11ec_8a24_7cb0c2e375c3level0_row3\" class=\"row_heading level0 row3\" >3</th>\n",
       "                        <td id=\"T_ad0df16f_9e07_11ec_8a24_7cb0c2e375c3row3_col0\" class=\"data row3 col0\" >6.2500e-03</td>\n",
       "                        <td id=\"T_ad0df16f_9e07_11ec_8a24_7cb0c2e375c3row3_col1\" class=\"data row3 col1\" >4.400738e-03</td>\n",
       "                        <td id=\"T_ad0df16f_9e07_11ec_8a24_7cb0c2e375c3row3_col2\" class=\"data row3 col2\" >0.997</td>\n",
       "                        <td id=\"T_ad0df16f_9e07_11ec_8a24_7cb0c2e375c3row3_col3\" class=\"data row3 col3\" >8.947439e-06</td>\n",
       "                        <td id=\"T_ad0df16f_9e07_11ec_8a24_7cb0c2e375c3row3_col4\" class=\"data row3 col4\" >2.000</td>\n",
       "                        <td id=\"T_ad0df16f_9e07_11ec_8a24_7cb0c2e375c3row3_col5\" class=\"data row3 col5\" >2.336896e-08</td>\n",
       "                        <td id=\"T_ad0df16f_9e07_11ec_8a24_7cb0c2e375c3row3_col6\" class=\"data row3 col6\" >3.007</td>\n",
       "            </tr>\n",
       "            <tr>\n",
       "                        <th id=\"T_ad0df16f_9e07_11ec_8a24_7cb0c2e375c3level0_row4\" class=\"row_heading level0 row4\" >4</th>\n",
       "                        <td id=\"T_ad0df16f_9e07_11ec_8a24_7cb0c2e375c3row4_col0\" class=\"data row4 col0\" >3.1250e-03</td>\n",
       "                        <td id=\"T_ad0df16f_9e07_11ec_8a24_7cb0c2e375c3row4_col1\" class=\"data row4 col1\" >2.202644e-03</td>\n",
       "                        <td id=\"T_ad0df16f_9e07_11ec_8a24_7cb0c2e375c3row4_col2\" class=\"data row4 col2\" >0.999</td>\n",
       "                        <td id=\"T_ad0df16f_9e07_11ec_8a24_7cb0c2e375c3row4_col3\" class=\"data row4 col3\" >2.236834e-06</td>\n",
       "                        <td id=\"T_ad0df16f_9e07_11ec_8a24_7cb0c2e375c3row4_col4\" class=\"data row4 col4\" >2.000</td>\n",
       "                        <td id=\"T_ad0df16f_9e07_11ec_8a24_7cb0c2e375c3row4_col5\" class=\"data row4 col5\" >2.913552e-09</td>\n",
       "                        <td id=\"T_ad0df16f_9e07_11ec_8a24_7cb0c2e375c3row4_col6\" class=\"data row4 col6\" >3.004</td>\n",
       "            </tr>\n",
       "            <tr>\n",
       "                        <th id=\"T_ad0df16f_9e07_11ec_8a24_7cb0c2e375c3level0_row5\" class=\"row_heading level0 row5\" >5</th>\n",
       "                        <td id=\"T_ad0df16f_9e07_11ec_8a24_7cb0c2e375c3row5_col0\" class=\"data row5 col0\" >1.5625e-03</td>\n",
       "                        <td id=\"T_ad0df16f_9e07_11ec_8a24_7cb0c2e375c3row5_col1\" class=\"data row5 col1\" >1.101893e-03</td>\n",
       "                        <td id=\"T_ad0df16f_9e07_11ec_8a24_7cb0c2e375c3row5_col2\" class=\"data row5 col2\" >0.999</td>\n",
       "                        <td id=\"T_ad0df16f_9e07_11ec_8a24_7cb0c2e375c3row5_col3\" class=\"data row5 col3\" >5.592068e-07</td>\n",
       "                        <td id=\"T_ad0df16f_9e07_11ec_8a24_7cb0c2e375c3row5_col4\" class=\"data row5 col4\" >2.000</td>\n",
       "                        <td id=\"T_ad0df16f_9e07_11ec_8a24_7cb0c2e375c3row5_col5\" class=\"data row5 col5\" >3.637213e-10</td>\n",
       "                        <td id=\"T_ad0df16f_9e07_11ec_8a24_7cb0c2e375c3row5_col6\" class=\"data row5 col6\" >3.002</td>\n",
       "            </tr>\n",
       "            <tr>\n",
       "                        <th id=\"T_ad0df16f_9e07_11ec_8a24_7cb0c2e375c3level0_row6\" class=\"row_heading level0 row6\" >6</th>\n",
       "                        <td id=\"T_ad0df16f_9e07_11ec_8a24_7cb0c2e375c3row6_col0\" class=\"data row6 col0\" >7.8125e-04</td>\n",
       "                        <td id=\"T_ad0df16f_9e07_11ec_8a24_7cb0c2e375c3row6_col1\" class=\"data row6 col1\" >5.510896e-04</td>\n",
       "                        <td id=\"T_ad0df16f_9e07_11ec_8a24_7cb0c2e375c3row6_col2\" class=\"data row6 col2\" >1.000</td>\n",
       "                        <td id=\"T_ad0df16f_9e07_11ec_8a24_7cb0c2e375c3row6_col3\" class=\"data row6 col3\" >1.398016e-07</td>\n",
       "                        <td id=\"T_ad0df16f_9e07_11ec_8a24_7cb0c2e375c3row6_col4\" class=\"data row6 col4\" >2.000</td>\n",
       "                        <td id=\"T_ad0df16f_9e07_11ec_8a24_7cb0c2e375c3row6_col5\" class=\"data row6 col5\" >4.543700e-11</td>\n",
       "                        <td id=\"T_ad0df16f_9e07_11ec_8a24_7cb0c2e375c3row6_col6\" class=\"data row6 col6\" >3.001</td>\n",
       "            </tr>\n",
       "            <tr>\n",
       "                        <th id=\"T_ad0df16f_9e07_11ec_8a24_7cb0c2e375c3level0_row7\" class=\"row_heading level0 row7\" >7</th>\n",
       "                        <td id=\"T_ad0df16f_9e07_11ec_8a24_7cb0c2e375c3row7_col0\" class=\"data row7 col0\" >3.9063e-04</td>\n",
       "                        <td id=\"T_ad0df16f_9e07_11ec_8a24_7cb0c2e375c3row7_col1\" class=\"data row7 col1\" >2.755806e-04</td>\n",
       "                        <td id=\"T_ad0df16f_9e07_11ec_8a24_7cb0c2e375c3row7_col2\" class=\"data row7 col2\" >1.000</td>\n",
       "                        <td id=\"T_ad0df16f_9e07_11ec_8a24_7cb0c2e375c3row7_col3\" class=\"data row7 col3\" >3.495040e-08</td>\n",
       "                        <td id=\"T_ad0df16f_9e07_11ec_8a24_7cb0c2e375c3row7_col4\" class=\"data row7 col4\" >2.000</td>\n",
       "                        <td id=\"T_ad0df16f_9e07_11ec_8a24_7cb0c2e375c3row7_col5\" class=\"data row7 col5\" >5.682848e-12</td>\n",
       "                        <td id=\"T_ad0df16f_9e07_11ec_8a24_7cb0c2e375c3row7_col6\" class=\"data row7 col6\" >2.999</td>\n",
       "            </tr>\n",
       "            <tr>\n",
       "                        <th id=\"T_ad0df16f_9e07_11ec_8a24_7cb0c2e375c3level0_row8\" class=\"row_heading level0 row8\" >8</th>\n",
       "                        <td id=\"T_ad0df16f_9e07_11ec_8a24_7cb0c2e375c3row8_col0\" class=\"data row8 col0\" >1.9531e-04</td>\n",
       "                        <td id=\"T_ad0df16f_9e07_11ec_8a24_7cb0c2e375c3row8_col1\" class=\"data row8 col1\" >1.377993e-04</td>\n",
       "                        <td id=\"T_ad0df16f_9e07_11ec_8a24_7cb0c2e375c3row8_col2\" class=\"data row8 col2\" >1.000</td>\n",
       "                        <td id=\"T_ad0df16f_9e07_11ec_8a24_7cb0c2e375c3row8_col3\" class=\"data row8 col3\" >8.737601e-09</td>\n",
       "                        <td id=\"T_ad0df16f_9e07_11ec_8a24_7cb0c2e375c3row8_col4\" class=\"data row8 col4\" >2.000</td>\n",
       "                        <td id=\"T_ad0df16f_9e07_11ec_8a24_7cb0c2e375c3row8_col5\" class=\"data row8 col5\" >7.055788e-13</td>\n",
       "                        <td id=\"T_ad0df16f_9e07_11ec_8a24_7cb0c2e375c3row8_col6\" class=\"data row8 col6\" >3.010</td>\n",
       "            </tr>\n",
       "            <tr>\n",
       "                        <th id=\"T_ad0df16f_9e07_11ec_8a24_7cb0c2e375c3level0_row9\" class=\"row_heading level0 row9\" >9</th>\n",
       "                        <td id=\"T_ad0df16f_9e07_11ec_8a24_7cb0c2e375c3row9_col0\" class=\"data row9 col0\" >9.7656e-05</td>\n",
       "                        <td id=\"T_ad0df16f_9e07_11ec_8a24_7cb0c2e375c3row9_col1\" class=\"data row9 col1\" >6.890187e-05</td>\n",
       "                        <td id=\"T_ad0df16f_9e07_11ec_8a24_7cb0c2e375c3row9_col2\" class=\"data row9 col2\" >1.000</td>\n",
       "                        <td id=\"T_ad0df16f_9e07_11ec_8a24_7cb0c2e375c3row9_col3\" class=\"data row9 col3\" >2.184398e-09</td>\n",
       "                        <td id=\"T_ad0df16f_9e07_11ec_8a24_7cb0c2e375c3row9_col4\" class=\"data row9 col4\" >2.000</td>\n",
       "                        <td id=\"T_ad0df16f_9e07_11ec_8a24_7cb0c2e375c3row9_col5\" class=\"data row9 col5\" >8.682292e-14</td>\n",
       "                        <td id=\"T_ad0df16f_9e07_11ec_8a24_7cb0c2e375c3row9_col6\" class=\"data row9 col6\" >3.023</td>\n",
       "            </tr>\n",
       "            <tr>\n",
       "                        <th id=\"T_ad0df16f_9e07_11ec_8a24_7cb0c2e375c3level0_row10\" class=\"row_heading level0 row10\" >10</th>\n",
       "                        <td id=\"T_ad0df16f_9e07_11ec_8a24_7cb0c2e375c3row10_col0\" class=\"data row10 col0\" >4.8828e-05</td>\n",
       "                        <td id=\"T_ad0df16f_9e07_11ec_8a24_7cb0c2e375c3row10_col1\" class=\"data row10 col1\" >3.445149e-05</td>\n",
       "                        <td id=\"T_ad0df16f_9e07_11ec_8a24_7cb0c2e375c3row10_col2\" class=\"data row10 col2\" >1.000</td>\n",
       "                        <td id=\"T_ad0df16f_9e07_11ec_8a24_7cb0c2e375c3row10_col3\" class=\"data row10 col3\" >5.460958e-10</td>\n",
       "                        <td id=\"T_ad0df16f_9e07_11ec_8a24_7cb0c2e375c3row10_col4\" class=\"data row10 col4\" >2.000</td>\n",
       "                        <td id=\"T_ad0df16f_9e07_11ec_8a24_7cb0c2e375c3row10_col5\" class=\"data row10 col5\" >7.107379e-15</td>\n",
       "                        <td id=\"T_ad0df16f_9e07_11ec_8a24_7cb0c2e375c3row10_col6\" class=\"data row10 col6\" >3.611</td>\n",
       "            </tr>\n",
       "    </tbody></table>"
      ],
      "text/plain": [
       "<pandas.io.formats.style.Styler at 0x1ba523799a0>"
      ]
     },
     "execution_count": 8,
     "metadata": {},
     "output_type": "execute_result"
    }
   ],
   "source": [
    "res = np.hstack([resBE,resMP,resDI])\n",
    "\n",
    "# columns of table\n",
    "columns=['h', 'BE-error', 'BE-eoc', 'Midpoint-error','Midpoint-eoc','Dirk-error','Dirk-eoc']\n",
    "# values in table\n",
    "keys = {columns[0]: resBE[:,0], columns[1]: resBE[:,1], columns[2]: resBE[:,2],\n",
    "                                columns[3]: resMP[:,1], columns[4]: resMP[:,2],\n",
    "                                columns[5]: resDI[:,1], columns[6]: resDI[:,2]}\n",
    "# generate table\n",
    "table = pd.DataFrame(keys, index=range(res.shape[0]),\n",
    "        columns=columns)\n",
    "# format floating points for each column\n",
    "table = table.style.format({columns[0]:'{:.4e}',\n",
    "                            columns[1]:'{:.6e}', columns[3]:'{:.6e}', columns[5]:'{:.6e}',\n",
    "                            columns[2]:'{:.3f}', columns[4]:'{:.3f}', columns[6]:'{:.3f}' })\n",
    "# print(table.to_latex()) # output result as latex table for inclusion in tex document\n",
    "table"
   ]
  },
  {
   "cell_type": "code",
   "execution_count": 9,
   "metadata": {},
   "outputs": [
    {
     "data": {
      "image/png": "[encoded data removed]",
      "text/plain": [
       "<Figure size 432x288 with 1 Axes>"
      ]
     },
     "metadata": {
      "needs_background": "light"
     },
     "output_type": "display_data"
    }
   ],
   "source": [
    "from matplotlib import pyplot as plt\n",
    "plt.loglog(res[:,0],res[:,1],'bo-',label=\"Backward Euler\")\n",
    "plt.loglog(res[:,0],res[:,4],'r^-',label=\"Midpoint\")\n",
    "plt.loglog(res[:,0],res[:,7],'g^-',label=\"Dirk\")\n",
    "plt.legend(loc=4, prop={'size': 12})\n",
    "plt.grid(True)\n",
    "plt.title(\"Error at end time vs step size\")\n",
    "plt.xlabel(\"step size h\")\n",
    "plt.ylabel(\"Error at end time\")\n",
    "plt.show()"
   ]
  },
  {
   "cell_type": "markdown",
   "metadata": {},
   "source": [
    "# Question 2.2 and Question 2.3\n",
    "\n",
    "**Problem Setup:**\n",
    "We consider the Hamiltonian given by:\n",
    "$$ H(x,p) = \\frac{1}{2}\\Big(p^2+(k^2+1)x^2\\Big) - \\frac{1}{2}k^2x^4 $$ \n",
    "leading to the Hamiltonian system: $$ x' = p~,\\qquad p' = -(k^2+1)x + 2k^2x^3~. $$\n",
    "We can write this as: $$ y' = My + F(y) $$ with $y=(x,p)$ and\n",
    "$$ M = \\left(\\begin{array}{cc} 0 & 1 \\\\ -(1+k^2) & 0 \\end{array}\\right)~,\\qquad\n",
    "   F(y) = \\left(\\begin{array}{c} 0 \\\\ 2k^2y_1 \\end{array}\\right) $$\n",
    "The exact solution to the problem can be expressed using the _Jacobi elliptic\n",
    "function_ $s_n,c_n,d_n$:\n",
    "$$ x(t) = s_n(t,k^2)~,\\qquad p(t) = x'(t) = c_n(t,k^2)d_n(t,k^2)~. $$\n",
    "\n",
    "**Note:** This last function has been imported through scipy.special. \n",
    "\n",
    "We create a function *model* to modelize the problem: "
   ]
  },
  {
   "cell_type": "code",
   "execution_count": 10,
   "metadata": {},
   "outputs": [],
   "source": [
    "T=200\n",
    "\n",
    "def model(k):\n",
    "    # the model\n",
    "    H  = lambda x,p: 0.5*(p*p+(k*k+1)*x*x) - k*k/2*x**4\n",
    "    M  = array([ [0,1], [-(1.+k*k),0] ])\n",
    "    F  = lambda y: array( [0, 2*k*k*y[0]**3] )\n",
    "    DF = lambda y: array([ [0,0],\n",
    "                           [2*k*k*3.*y[0]**2,0] ])\n",
    "    # the exact solution\n",
    "    def Y(t):\n",
    "        sn,cn,dn,_ = ellipj(t,k*k)\n",
    "        return array([ sn, cn*dn ])\n",
    "    return H,M,F,DF,Y"
   ]
  },
  {
   "cell_type": "markdown",
   "metadata": {},
   "source": [
    "Throughout this exercise, we will consider three Dirk methods given by the butcher table: \n",
    "\n",
    "\\begin{array}\n",
    "{c|cccc}\n",
    "d & d &0 \\\\\n",
    "1-d & 1-2d & d& \\\\\n",
    "\\hline\n",
    "& \\frac{1}{2} &\\frac{1}{2}\n",
    "\\end{array} \n",
    "\n",
    "with $d = 0,\\frac{1}{4},\\frac{1}{2}+\\frac{\\sqrt{3}}{6}$\n",
    "\n",
    "To avoid code duplication, we define a function *getbutcher* which returns in function of *d* the butcher tables of one of these Dirk methods."
   ]
  },
  {
   "cell_type": "code",
   "execution_count": 11,
   "metadata": {},
   "outputs": [],
   "source": [
    "def getbutcher(d):\n",
    "    an = np.array([d,1-d])\n",
    "    bn = np.array([[d,0],[1-2*d,d]])\n",
    "    gn = np.array([0.5,0.5])\n",
    "    return an, bn, gn"
   ]
  },
  {
   "cell_type": "markdown",
   "metadata": {},
   "source": [
    "Next, we redefine the Dirk method, but this time with a tolerance of 1e-8 in the Newton method. This is to ensure it is sufficient for these experiments."
   ]
  },
  {
   "cell_type": "code",
   "execution_count": 12,
   "metadata": {},
   "outputs": [],
   "source": [
    "def dirk(f,Df, t0,y0, h, alpha,beta,gamma):\n",
    "    m = len(y0)\n",
    "    s = len(gamma)\n",
    "    y = y0.copy().astype(float)\n",
    "    k = np.zeros([s,m])\n",
    "    for i in range(s):\n",
    "        ti = t0+alpha[i]*h\n",
    "        yi = y0.copy().astype(float)\n",
    "        for j in range(i):\n",
    "            yi += h*beta[i,j]*k[j]\n",
    "        k[i,:] = f(ti,yi);        \n",
    "        if beta[i,i] > 0:\n",
    "            k[i,:],K = newton (lambda k: k-f(ti,yi+h*beta[i,i]*k),\n",
    "                             lambda k: np.eye(m)-h*beta[i,i]*Df(ti,yi+h*beta[i,i]*k),\n",
    "                             k[i,:], 1e-8, 1000)\n",
    "            assert K < 1000        \n",
    "        y += h*gamma[i]*k[i,:]\n",
    "    return y"
   ]
  },
  {
   "cell_type": "markdown",
   "metadata": {},
   "source": [
    "We then define the exponentially fit version of the multi-stage Dirk method. "
   ]
  },
  {
   "cell_type": "markdown",
   "metadata": {},
   "source": [
    "def eDirk(f,Df,t0,y0,h,alpha,beta,gamma,exphMs,exphMsInv,exphM): \n",
    "    m = len(y0)\n",
    "    s = len(gamma)\n",
    "    y = y0.copy().astype(float)\n",
    "    k = np.zeros([s,m])\n",
    "    for i in range(s):\n",
    "        ti = t0+alpha[i]*h\n",
    "        yi = y0.copy().astype(float)\n",
    "        for j in range(i):\n",
    "            yi += h*beta[i,j]*k[j]\n",
    "        k[i,:] = f(ti,exphMs[i]*yi);        \n",
    "        if beta[i,i] > 0:\n",
    "            k[i,:],K = newton (lambda k: k-exphMsInv[i].dot(f(ti,exphMs[i]*(yi+h*beta[i,i]*k))),\n",
    "                             lambda k: np.eye(m)-h*beta[i,i]*Df(ti,yi+exphMs[i]*h*beta[i,i]*k),\n",
    "                             k[i,:], 1e-8, 1000)\n",
    "            assert K < 1000        \n",
    "        y += h*gamma[i]*k[i,:]\n",
    "    return exphM.dot(y)"
   ]
  },
  {
   "cell_type": "code",
   "execution_count": 14,
   "metadata": {},
   "outputs": [],
   "source": [
    "def eDirk(f,Df,t0,y0,h,alpha,beta,gamma,exphMs,exphMsInv,exphM): \n",
    "    m = len(alpha)\n",
    "    r = len(y0)\n",
    "    yi = exphMs.dot(y0)\n",
    "    ks = np.zeros((m,r))\n",
    "    for i in range(m):\n",
    "        total = 0\n",
    "        for j in range(i):\n",
    "            total += beta[i,j]*ks[j]\n",
    "        F = lambda delta: delta - exphMsInv.dot(f(t0 + (alpha[i]*h), exphMs.dot(y0+(h*total + beta[i,i]*delta))))\n",
    "        DF = lambda delta: np.identity(r) - (h*Df(t0 + (alpha[i]*h), exphMs.dot(y0+(h*total + beta[i,i]*delta))))\n",
    "        \n",
    "        k, iterations = newton(F, Df, y0, 1e-15, 10**5)\n",
    "        ks[i] = k\n",
    "    s=0\n",
    "    for i in range(len(ks)):\n",
    "        s += gamma[i]*ks[i]\n",
    "    y = exphM.dot(y0 + (h*s))\n",
    "    return y "
   ]
  },
  {
   "cell_type": "markdown",
   "metadata": {},
   "source": [
    "In this next section, we use the Dirk and Edirk methods to compute an approximation to the Hamiltonian system. To see how efficient these methods are, we are going to compute the maximal error between initial time t=0 and final time t=200 and the EOC for the sequence of time steps given by $ h_{i}= \\frac{1}{N_{i}} $ with $ N_{i} = N_{0} * 2^{i} $ for $i \\in {(0,...,9)}$ and $N_{0} = 100$ . \n",
    "\n",
    "We setup a function *simulate* to solve the problem. \n",
    "\n",
    "**Parameters are:**\n",
    "\n",
    "| Parameter | Type  | Description |\n",
    "| --------- | ----  | ------------------------------------------------------- |\n",
    "| k         | float | $k$ used in the model |\n",
    "| T         | float | end time for simulation |\n",
    "| d         | float | diagonal entry for DIRK method (used for all diagonal entries in $\\beta$) |\n",
    "| N         | int   | number of time steps to use ($h=\\frac{T}{N}$). |\n",
    "| useExp    | bool  | if _True_ use the exponentially fit RK method |\n",
    "\n",
    "The *simulate* method returns the approximative solution to the hamiltonian system using the Dirk or Edirk method (conditional on useExp) and the maximal error  between intial time t=0 and final time t=200 for a given step size (CHECK IF N IS REALLY STEPSIZE). "
   ]
  },
  {
   "cell_type": "code",
   "execution_count": null,
   "metadata": {},
   "outputs": [],
   "source": [
    "def simulate(k,T, d, N, useExp):\n",
    "    h = T/N\n",
    "    # we really want to reach the final time, i.e., $y_N\\approx Y(t_N)$\n",
    "    assert h*N == T\n",
    "\n",
    "    # the model (we don't need 'H' here) and initial condition\n",
    "    _,M,F,DF,Y = model(k)\n",
    "    y0 = Y(0)\n",
    "    alpha,beta,gamma = getbutcher(d)\n",
    "    if not useExp:\n",
    "        stepper = lambda f,Df,t0,y0,h: dirk(f,Df,t0,y0,h,alpha,beta,gamma)\n",
    "        # setup the actual right hand side and Jacobian: f(t,y) = My + F(y)\n",
    "        def f(t,y): # Function f \n",
    "            return M.dot(y)+F(y)\n",
    "        def Df(t,y): # Jacobian of the function f \n",
    "            return M+DF(y)\n",
    "    else: \n",
    "         # precompute required matrix exponentials\n",
    "        exphM     = expm(M*h)\n",
    "        for i in range (len(alpha)):\n",
    "            exphMs = expm(alpha[i]*M*h)\n",
    "            exphMsInv = inv(exphMs)\n",
    "        stepper = lambda f,Df,t0,y0,h: eDirk(f,Df, t0,y0, h, alpha,beta,gamma, exphMs, exphMsInv, exphM)\n",
    "        # setup the actual right hand side and Jacobian: f(t,y) = F(y)\n",
    "        def f(t,y): \n",
    "            return F(y)\n",
    "        def Df(t,y):\n",
    "            return DF(y)\n",
    "    t = np.linspace(0,T,N+1)\n",
    "        \n",
    "    try: # want to catch NaN indicating stability issues and also errors in Newton\n",
    "        y = evolve(stepper, f,Df, 0,Y(0),T, N)\n",
    "        # comput the maximum norm over time\n",
    "        exact = Y(t).transpose() # contains (t_n,Y(t_n))_n\n",
    "        error = max( np.linalg.norm( y-exact, axis=1) )\n",
    "        # Approximations that are e.g. 100% off make the graphs hard to read and\n",
    "        # we simply will ignore those simulations (we'll call that 'unstable').\n",
    "        #if error/max(np.linalg.norm(exact, axis=1) ) > 1:\n",
    "            #y,error = [], nan # error='nan' indicates failure\n",
    "    except ValueError: # method not stable for given 'h'\n",
    "        print(N,T/N,\"failed: some NaN value produced!\")\n",
    "        y,error = [], nan # return 'not a number' for the error\n",
    "    except AssertionError: # assert in dirk was triggered (failed Newton)\n",
    "        print(N,T/N,\"failed: Newton in dirk function failed!\")\n",
    "        y,error = [], nan # return 'not a number' for the error\n",
    "    return y, error"
   ]
  },
  {
   "cell_type": "markdown",
   "metadata": {},
   "source": [
    "Given the *simulate* method only produces results for a given stepsize and does not calculate Eocs, we must implement a second method *experiment2* to obtain the results for all of the other sequence of time steps."
   ]
  },
  {
   "cell_type": "code",
   "execution_count": null,
   "metadata": {},
   "outputs": [],
   "source": [
    "def experiment2(k,d,useExp): \n",
    "    M =10\n",
    "    herr = np.zeros((M,3)) \n",
    "    for m in range(M):\n",
    "        N = 100*2**m\n",
    "        h = 1/N\n",
    "        y , error = simulate(k,T,d,N,useExp)\n",
    "        herr[m][0] = h\n",
    "        herr[m][1]= error\n",
    "    for i in range(9):\n",
    "        herr[i+1][2]= computeEocs(herr)[i]\n",
    "    return herr"
   ]
  },
  {
   "cell_type": "markdown",
   "metadata": {},
   "source": [
    "To avoid code duplication and to produce an elegant table for the results of each method, we implement the following *gen_table* method. Each table will have two columns for each value of k, one showing the maximum error and the other the Eoc for each stepsize."
   ]
  },
  {
   "cell_type": "code",
   "execution_count": null,
   "metadata": {},
   "outputs": [],
   "source": [
    "def gen_table(k,d,useExp): \n",
    "    resk0=experiment2(k,d[0],useExp)\n",
    "    resk1=experiment2(k,d[1],useExp)\n",
    "    resk2=experiment2(k,d[2],useExp)\n",
    "\n",
    "    res = np.hstack([resk0,resk1,resk2])\n",
    "    # columns of table\n",
    "    columns=['h', 'DM1 - error', 'DM1 - eoc', 'DM2 - error','DM2 -eoc','DM3 - error','DM3 -eoc']\n",
    "    # values in table\n",
    "    keys = {columns[0]: resk0[:,0], columns[1]: resk0[:,1], columns[2]: resk0[:,2],\n",
    "                                columns[3]: resk1[:,1], columns[4]: resk1[:,2],\n",
    "                                columns[5]: resk2[:,1], columns[6]: resk2[:,2]}\n",
    "    # generate table\n",
    "    table = pd.DataFrame(keys, index=range(res.shape[0]),\n",
    "    columns=columns)\n",
    "    # format floating points for each column\n",
    "    table = table.style.format({columns[0]:'{:.4e}',\n",
    "                            columns[1]:'{:.6e}', columns[3]:'{:.6e}', columns[5]:'{:.6e}',\n",
    "                            columns[2]:'{:.3f}', columns[4]:'{:.3f}', columns[6]:'{:.3f}' })\n",
    "    return table "
   ]
  },
  {
   "cell_type": "markdown",
   "metadata": {},
   "source": [
    "Since we want to plot the maximum relative error $\\big|\\frac{H(y_n)-H(y_0)}{H(y_0)}\\big|$ and phase portraits for each of the time steps, we implement a *plot* method. "
   ]
  },
  {
   "cell_type": "code",
   "execution_count": null,
   "metadata": {},
   "outputs": [],
   "source": [
    "def plot(k,T,d,useExp, y):\n",
    "    N = len(y)-1\n",
    "    H,_,_,_,Y = model(k)\n",
    "    H0 = H(*Y(0)) # call H(Y(0)[0],Y(0)[1])\n",
    "    exact = Y(T)\n",
    "    t = linspace(0,T,len(y))\n",
    " \n",
    "    fig, (ax_phase,ax_H) = plt.subplots(nrows=1, ncols=2, figsize=(20, 10))\n",
    "    if useExp:\n",
    "         fig.suptitle(\"Exp using k=\"+str(k)+\", d=\"+str(d)+ \", and N=\"+str(N))\n",
    "    else:\n",
    "        fig.suptitle(\"Using k=\"+str(k)+\", d=\"+str(d)+ \", and N=\"+str(N))\n",
    "\n",
    "    ax_phase.plot(y[:,0],y[:,1],'g.-')\n",
    "    # mark position of approximation at final time\n",
    "    ax_phase.plot(y[-1,0],y[-1,1],'r*',markersize=24)\n",
    "    # also show position of exact solution at final time\n",
    "    ax_phase.plot(exact[0],exact[1],'y*',markersize=24)\n",
    "    ax_phase.set_title(\"phase portrait\")\n",
    "    ax_phase.set_xlabel('x')\n",
    "    ax_phase.set_ylabel('p')\n",
    "\n",
    "    ax_H.semilogy( t, abs( H(y[:,0],y[:,1]) - H0 ) / abs(H0) )\n",
    "    ax_H.set_title(\"Relative error in Hamiltonian\")\n",
    "    ax_H.set_xlabel('time')\n",
    "    ax_H.set_ylabel('|H(y(t))-H(y0)|/|H(y0)|')\n",
    "    fig.savefig(\"phase-\"+str(N)+\"-\"+str(k)+\"-\"+str(d)+(\"-exp\" if useExp else \"\")+\".pdf\")"
   ]
  },
  {
   "cell_type": "markdown",
   "metadata": {},
   "source": [
    "Finally, to plot both the phase portrait and the maximum relative error as a function of the timesteps for each Dirk method and its exponentially fit counterpart, we implement a method *compute*: "
   ]
  },
  {
   "cell_type": "code",
   "execution_count": null,
   "metadata": {},
   "outputs": [],
   "source": [
    "def compute(k):\n",
    "    T = 200\n",
    "    dValues   = [0, 0.25, 0.5+np.sqrt(3)/6]\n",
    "    N0        = 100\n",
    "    # use 10 if 12 takes too long on your machine (test code with 8 or so)\n",
    "    steps     = 10\n",
    "    for useExp in [False,True]:\n",
    "        for i,d in enumerate(dValues):\n",
    "            for s in range(steps):\n",
    "                N = N0*2**s\n",
    "                y,a = simulate( k,T, d,N, useExp )\n",
    "                # plot phase portrait and H conservation for two steps.\n",
    "                # Make sure no errors occured.\n",
    "                if len(y)>0 and s in [2,8]:\n",
    "                    plot(k,T,d,useExp, y)\n",
    "    return 0"
   ]
  },
  {
   "cell_type": "code",
   "execution_count": null,
   "metadata": {},
   "outputs": [],
   "source": [
    "def plotErrorEoc(k, errors):\n",
    "    # one figure with all methods for fixed 'k'\n",
    "    fig, (ax_err,ax_eoc) = plt.subplots(nrows=1, ncols=2, figsize=(20, 10))\n",
    "    for i,e in enumerate(errors):\n",
    "            # plot error and eoc over number of time steps\n",
    "            ax_err.loglog(e[0],e[1], label=\"method \"+str(i), marker='h')\n",
    "            ax_eoc.semilogx(e[0],e[2], label=\"method \"+str(i), marker='h')\n",
    "    fig.suptitle(\"Results with k=\"+str(k))\n",
    "    ax_err.set_xlabel('Number of steps')\n",
    "    ax_err.set_ylabel('Maximum error over time')\n",
    "    ax_err.legend()\n",
    "    ax_err.grid(True)\n",
    "    ax_eoc.set_xlabel('Number of steps')\n",
    "    ax_eoc.set_ylabel('EOC')\n",
    "    ax_eoc.legend()\n",
    "    ax_eoc.grid(True)\n",
    "    fig.savefig(\"result\"+str(k)+'.pdf')"
   ]
  },
  {
   "cell_type": "markdown",
   "metadata": {},
   "source": [
    "**For each value, that is the method with butcher table given by d, we present our results as follows:**\n",
    "- A table with results for all three Dirk methods\n",
    "- A table for its exponentially fit counterpart methods\n",
    "- A series of phase portraits and maximum relative plots for each of these methods (6 in total)\n",
    "\n",
    "**For k=0:**"
   ]
  },
  {
   "cell_type": "code",
   "execution_count": null,
   "metadata": {},
   "outputs": [],
   "source": [
    "k = np.array([0,0.3,0.7])\n",
    "d = np.array([0,0.25,0.5+np.sqrt(3)/6])\n",
    "\n",
    "gen_table(k[0],d,0)"
   ]
  },
  {
   "cell_type": "markdown",
   "metadata": {},
   "source": [
    "**Observation:**\n",
    "\n",
    "For its exponentially fit counterpart, we obtain: \n"
   ]
  },
  {
   "cell_type": "code",
   "execution_count": null,
   "metadata": {},
   "outputs": [],
   "source": [
    "gen_table(k[0],d,1)"
   ]
  },
  {
   "cell_type": "markdown",
   "metadata": {},
   "source": [
    "**Observation:**\n",
    "\n",
    "We now plot a series of phase portaits and maximum relative plots. "
   ]
  },
  {
   "cell_type": "code",
   "execution_count": null,
   "metadata": {},
   "outputs": [],
   "source": [
    "errors = compute(k[0])"
   ]
  },
  {
   "cell_type": "markdown",
   "metadata": {},
   "source": [
    "**Observation:**\n",
    "For the three dirk methods, the one with d=0.25 has the lowest relative error in Hamiltonian, and the other two methods are similar, with d=0 being worse with a lower amount of steps. "
   ]
  },
  {
   "cell_type": "code",
   "execution_count": null,
   "metadata": {},
   "outputs": [],
   "source": [
    "plotErrorEoc(0.0,errors)"
   ]
  },
  {
   "cell_type": "markdown",
   "metadata": {},
   "source": [
    "**For k=0.3:**"
   ]
  },
  {
   "cell_type": "code",
   "execution_count": null,
   "metadata": {},
   "outputs": [],
   "source": [
    "gen_table(k[1],d,0)"
   ]
  },
  {
   "cell_type": "markdown",
   "metadata": {},
   "source": [
    "**Observation:**"
   ]
  },
  {
   "cell_type": "code",
   "execution_count": null,
   "metadata": {},
   "outputs": [],
   "source": [
    "gen_table(k[1],d,1)"
   ]
  },
  {
   "cell_type": "markdown",
   "metadata": {},
   "source": [
    "**Observation:**"
   ]
  },
  {
   "cell_type": "code",
   "execution_count": null,
   "metadata": {},
   "outputs": [],
   "source": [
    "errors = compute(k[1])"
   ]
  },
  {
   "cell_type": "code",
   "execution_count": null,
   "metadata": {},
   "outputs": [],
   "source": [
    "plotErrorEoc(0.3,errors)"
   ]
  },
  {
   "cell_type": "markdown",
   "metadata": {},
   "source": [
    "**For k=0.7:**"
   ]
  },
  {
   "cell_type": "code",
   "execution_count": null,
   "metadata": {},
   "outputs": [],
   "source": [
    "gen_table(k[2],d,0)"
   ]
  },
  {
   "cell_type": "markdown",
   "metadata": {},
   "source": [
    "**Observation:**"
   ]
  },
  {
   "cell_type": "code",
   "execution_count": null,
   "metadata": {},
   "outputs": [],
   "source": [
    "gen_table(k[2],d,1)"
   ]
  },
  {
   "cell_type": "markdown",
   "metadata": {},
   "source": [
    "**Observation:**"
   ]
  },
  {
   "cell_type": "code",
   "execution_count": null,
   "metadata": {},
   "outputs": [],
   "source": [
    "errors = compute(k[2])"
   ]
  },
  {
   "cell_type": "code",
   "execution_count": null,
   "metadata": {},
   "outputs": [],
   "source": [
    "plotErrorEoc(0.7,errors)"
   ]
  }
 ],
 "metadata": {
  "kernelspec": {
   "display_name": "Python 3",
   "language": "python",
   "name": "python3"
  },
  "language_info": {
   "codemirror_mode": {
    "name": "ipython",
    "version": 3
   },
   "file_extension": ".py",
   "mimetype": "text/x-python",
   "name": "python",
   "nbconvert_exporter": "python",
   "pygments_lexer": "ipython3",
   "version": "3.8.5"
  }
 },
 "nbformat": 4,
 "nbformat_minor": 5
}
